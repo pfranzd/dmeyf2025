{
 "cells": [
  {
   "cell_type": "markdown",
   "metadata": {
    "id": "azY5Q6Mko4Sm"
   },
   "source": [
    "# Feature Engineering en SQL\n",
    "\n",
    "A continuación, veremos cómo calcular diferentes variables para el feature engineering utilizando SQL.\n"
   ]
  },
  {
   "cell_type": "code",
   "execution_count": 1,
   "metadata": {
    "colab": {
     "base_uri": "https://localhost:8080/"
    },
    "executionInfo": {
     "elapsed": 23982,
     "status": "ok",
     "timestamp": 1756847820352,
     "user": {
      "displayName": "Alejandro Bolaños",
      "userId": "15513030842131101305"
     },
     "user_tz": 180
    },
    "id": "v--Kr-4KdWVe",
    "outputId": "3630c89c-1275-412c-f6c4-e542d0f896d9"
   },
   "outputs": [],
   "source": [
    "# %pip install duckdb\n",
    "# %pip install jupysql\n",
    "# %pip install duckdb-engine"
   ]
  },
  {
   "cell_type": "code",
   "execution_count": 2,
   "metadata": {
    "colab": {
     "base_uri": "https://localhost:8080/"
    },
    "executionInfo": {
     "elapsed": 5,
     "status": "ok",
     "timestamp": 1756847850614,
     "user": {
      "displayName": "Alejandro Bolaños",
      "userId": "15513030842131101305"
     },
     "user_tz": 180
    },
    "id": "id9aIXnzqYJz",
    "outputId": "68161c06-52d5-4f3a-c88d-432543b1e250"
   },
   "outputs": [],
   "source": [
    "import duckdb\n",
    "import pandas as pd\n",
    "\n",
    "%load_ext sql\n",
    "%config SqlMagic.autopandas = True\n",
    "%config SqlMagic.feedback = False\n",
    "%config SqlMagic.displaycon = False\n",
    "\n",
    "%sql duckdb://"
   ]
  },
  {
   "cell_type": "code",
   "execution_count": 3,
   "metadata": {
    "executionInfo": {
     "elapsed": 4,
     "status": "ok",
     "timestamp": 1756847855240,
     "user": {
      "displayName": "Alejandro Bolaños",
      "userId": "15513030842131101305"
     },
     "user_tz": 180
    },
    "id": "N0RgV3r1q_iY"
   },
   "outputs": [],
   "source": [
    "dataset_path = 'C:/Users/pedro/Documents/DMEyF/dmeyf2025/data/'\n",
    "dataset_file = 'processed/competencia_01.csv'\n",
    "\n",
    "data = pd.read_csv(dataset_path + dataset_file)"
   ]
  },
  {
   "cell_type": "code",
   "execution_count": 4,
   "metadata": {
    "colab": {
     "base_uri": "https://localhost:8080/",
     "height": 85,
     "referenced_widgets": [
      "cb2587b6a62044359b708ff0cff456f2",
      "bd86fc68727243e8899e967370282359",
      "e9aedf07ee9b46a09d29ed2df7776c53"
     ]
    },
    "executionInfo": {
     "elapsed": 21886,
     "status": "ok",
     "timestamp": 1756847878541,
     "user": {
      "displayName": "Alejandro Bolaños",
      "userId": "15513030842131101305"
     },
     "user_tz": 180
    },
    "id": "9HTjzrU5rEa6",
    "outputId": "b60992ab-8566-41a1-a751-975b9c8a281c"
   },
   "outputs": [
    {
     "data": {
      "text/html": [
       "<div>\n",
       "<style scoped>\n",
       "    .dataframe tbody tr th:only-of-type {\n",
       "        vertical-align: middle;\n",
       "    }\n",
       "\n",
       "    .dataframe tbody tr th {\n",
       "        vertical-align: top;\n",
       "    }\n",
       "\n",
       "    .dataframe thead th {\n",
       "        text-align: right;\n",
       "    }\n",
       "</style>\n",
       "<table border=\"1\" class=\"dataframe\">\n",
       "  <thead>\n",
       "    <tr style=\"text-align: right;\">\n",
       "      <th></th>\n",
       "      <th>Success</th>\n",
       "    </tr>\n",
       "  </thead>\n",
       "  <tbody>\n",
       "  </tbody>\n",
       "</table>\n",
       "</div>"
      ],
      "text/plain": [
       "Empty DataFrame\n",
       "Columns: [Success]\n",
       "Index: []"
      ]
     },
     "execution_count": 4,
     "metadata": {},
     "output_type": "execute_result"
    }
   ],
   "source": [
    "%%sql\n",
    "create or replace table competencia_01 as\n",
    "select\n",
    "    *\n",
    "from read_csv_auto(\"{{dataset_path + dataset_file}}\")"
   ]
  },
  {
   "cell_type": "code",
   "execution_count": 5,
   "metadata": {
    "colab": {
     "base_uri": "https://localhost:8080/",
     "height": 363
    },
    "executionInfo": {
     "elapsed": 41,
     "status": "ok",
     "timestamp": 1756847880749,
     "user": {
      "displayName": "Alejandro Bolaños",
      "userId": "15513030842131101305"
     },
     "user_tz": 180
    },
    "id": "GogfRFXvBQTH",
    "outputId": "e295daf3-8a60-4bfe-b8f6-991864b7aec2"
   },
   "outputs": [
    {
     "data": {
      "text/html": [
       "<div>\n",
       "<style scoped>\n",
       "    .dataframe tbody tr th:only-of-type {\n",
       "        vertical-align: middle;\n",
       "    }\n",
       "\n",
       "    .dataframe tbody tr th {\n",
       "        vertical-align: top;\n",
       "    }\n",
       "\n",
       "    .dataframe thead th {\n",
       "        text-align: right;\n",
       "    }\n",
       "</style>\n",
       "<table border=\"1\" class=\"dataframe\">\n",
       "  <thead>\n",
       "    <tr style=\"text-align: right;\">\n",
       "      <th></th>\n",
       "      <th>Master_Fvencimiento</th>\n",
       "      <th>Visa_Fvencimiento</th>\n",
       "      <th>tc_fvencimiento_mayor</th>\n",
       "      <th>tc_fvencimiento_menor</th>\n",
       "    </tr>\n",
       "  </thead>\n",
       "  <tbody>\n",
       "    <tr>\n",
       "      <th>0</th>\n",
       "      <td>-302</td>\n",
       "      <td>-1763</td>\n",
       "      <td>-302</td>\n",
       "      <td>-1763</td>\n",
       "    </tr>\n",
       "    <tr>\n",
       "      <th>1</th>\n",
       "      <td>-274</td>\n",
       "      <td>-1735</td>\n",
       "      <td>-274</td>\n",
       "      <td>-1735</td>\n",
       "    </tr>\n",
       "    <tr>\n",
       "      <th>2</th>\n",
       "      <td>-243</td>\n",
       "      <td>-1704</td>\n",
       "      <td>-243</td>\n",
       "      <td>-1704</td>\n",
       "    </tr>\n",
       "    <tr>\n",
       "      <th>3</th>\n",
       "      <td>-213</td>\n",
       "      <td>-1674</td>\n",
       "      <td>-213</td>\n",
       "      <td>-1674</td>\n",
       "    </tr>\n",
       "    <tr>\n",
       "      <th>4</th>\n",
       "      <td>-182</td>\n",
       "      <td>-1643</td>\n",
       "      <td>-182</td>\n",
       "      <td>-1643</td>\n",
       "    </tr>\n",
       "    <tr>\n",
       "      <th>5</th>\n",
       "      <td>-152</td>\n",
       "      <td>-1613</td>\n",
       "      <td>-152</td>\n",
       "      <td>-1613</td>\n",
       "    </tr>\n",
       "    <tr>\n",
       "      <th>6</th>\n",
       "      <td>-757</td>\n",
       "      <td>-1032</td>\n",
       "      <td>-757</td>\n",
       "      <td>-1032</td>\n",
       "    </tr>\n",
       "    <tr>\n",
       "      <th>7</th>\n",
       "      <td>-729</td>\n",
       "      <td>-1004</td>\n",
       "      <td>-729</td>\n",
       "      <td>-1004</td>\n",
       "    </tr>\n",
       "    <tr>\n",
       "      <th>8</th>\n",
       "      <td>-698</td>\n",
       "      <td>-973</td>\n",
       "      <td>-698</td>\n",
       "      <td>-973</td>\n",
       "    </tr>\n",
       "    <tr>\n",
       "      <th>9</th>\n",
       "      <td>-668</td>\n",
       "      <td>-943</td>\n",
       "      <td>-668</td>\n",
       "      <td>-943</td>\n",
       "    </tr>\n",
       "  </tbody>\n",
       "</table>\n",
       "</div>"
      ],
      "text/plain": [
       "   Master_Fvencimiento  Visa_Fvencimiento  tc_fvencimiento_mayor  \\\n",
       "0                 -302              -1763                   -302   \n",
       "1                 -274              -1735                   -274   \n",
       "2                 -243              -1704                   -243   \n",
       "3                 -213              -1674                   -213   \n",
       "4                 -182              -1643                   -182   \n",
       "5                 -152              -1613                   -152   \n",
       "6                 -757              -1032                   -757   \n",
       "7                 -729              -1004                   -729   \n",
       "8                 -698               -973                   -698   \n",
       "9                 -668               -943                   -668   \n",
       "\n",
       "   tc_fvencimiento_menor  \n",
       "0                  -1763  \n",
       "1                  -1735  \n",
       "2                  -1704  \n",
       "3                  -1674  \n",
       "4                  -1643  \n",
       "5                  -1613  \n",
       "6                  -1032  \n",
       "7                  -1004  \n",
       "8                   -973  \n",
       "9                   -943  "
      ]
     },
     "execution_count": 5,
     "metadata": {},
     "output_type": "execute_result"
    }
   ],
   "source": [
    "%%sql\n",
    "select\n",
    "    Master_Fvencimiento\n",
    "    , Visa_Fvencimiento\n",
    "    , greatest(Master_Fvencimiento, Visa_Fvencimiento) as tc_fvencimiento_mayor\n",
    "    , least(Master_Fvencimiento, Visa_Fvencimiento) as tc_fvencimiento_menor\n",
    "from competencia_01 limit 10"
   ]
  },
  {
   "cell_type": "markdown",
   "metadata": {
    "id": "27TYf5UXBfVC"
   },
   "source": [
    "Lo siguiente es querer operar dos variables, como por ejemplo sumarla. Esto es sencillo\n"
   ]
  },
  {
   "cell_type": "code",
   "execution_count": 6,
   "metadata": {
    "colab": {
     "base_uri": "https://localhost:8080/",
     "height": 363
    },
    "executionInfo": {
     "elapsed": 28,
     "status": "ok",
     "timestamp": 1756847888330,
     "user": {
      "displayName": "Alejandro Bolaños",
      "userId": "15513030842131101305"
     },
     "user_tz": 180
    },
    "id": "zQjwuGwxBeuz",
    "outputId": "819cdfac-a8b2-4a5c-c3e9-05e6b3b99075"
   },
   "outputs": [
    {
     "data": {
      "text/html": [
       "<div>\n",
       "<style scoped>\n",
       "    .dataframe tbody tr th:only-of-type {\n",
       "        vertical-align: middle;\n",
       "    }\n",
       "\n",
       "    .dataframe tbody tr th {\n",
       "        vertical-align: top;\n",
       "    }\n",
       "\n",
       "    .dataframe thead th {\n",
       "        text-align: right;\n",
       "    }\n",
       "</style>\n",
       "<table border=\"1\" class=\"dataframe\">\n",
       "  <thead>\n",
       "    <tr style=\"text-align: right;\">\n",
       "      <th></th>\n",
       "      <th>Master_msaldototal</th>\n",
       "      <th>Visa_msaldototal</th>\n",
       "      <th>tc_saldo_total</th>\n",
       "    </tr>\n",
       "  </thead>\n",
       "  <tbody>\n",
       "    <tr>\n",
       "      <th>0</th>\n",
       "      <td>21720.62</td>\n",
       "      <td>19216.74</td>\n",
       "      <td>40937.36</td>\n",
       "    </tr>\n",
       "    <tr>\n",
       "      <th>1</th>\n",
       "      <td>53966.31</td>\n",
       "      <td>34021.47</td>\n",
       "      <td>87987.78</td>\n",
       "    </tr>\n",
       "    <tr>\n",
       "      <th>2</th>\n",
       "      <td>87993.72</td>\n",
       "      <td>39771.39</td>\n",
       "      <td>127765.11</td>\n",
       "    </tr>\n",
       "    <tr>\n",
       "      <th>3</th>\n",
       "      <td>43647.07</td>\n",
       "      <td>21194.22</td>\n",
       "      <td>64841.29</td>\n",
       "    </tr>\n",
       "    <tr>\n",
       "      <th>4</th>\n",
       "      <td>18977.29</td>\n",
       "      <td>47900.09</td>\n",
       "      <td>66877.38</td>\n",
       "    </tr>\n",
       "    <tr>\n",
       "      <th>5</th>\n",
       "      <td>12722.85</td>\n",
       "      <td>174114.81</td>\n",
       "      <td>186837.66</td>\n",
       "    </tr>\n",
       "    <tr>\n",
       "      <th>6</th>\n",
       "      <td>434.01</td>\n",
       "      <td>11989.48</td>\n",
       "      <td>12423.49</td>\n",
       "    </tr>\n",
       "    <tr>\n",
       "      <th>7</th>\n",
       "      <td>868.02</td>\n",
       "      <td>16169.05</td>\n",
       "      <td>17037.07</td>\n",
       "    </tr>\n",
       "    <tr>\n",
       "      <th>8</th>\n",
       "      <td>0.00</td>\n",
       "      <td>16172.29</td>\n",
       "      <td>16172.29</td>\n",
       "    </tr>\n",
       "    <tr>\n",
       "      <th>9</th>\n",
       "      <td>434.01</td>\n",
       "      <td>16174.44</td>\n",
       "      <td>16608.45</td>\n",
       "    </tr>\n",
       "  </tbody>\n",
       "</table>\n",
       "</div>"
      ],
      "text/plain": [
       "   Master_msaldototal  Visa_msaldototal  tc_saldo_total\n",
       "0            21720.62          19216.74        40937.36\n",
       "1            53966.31          34021.47        87987.78\n",
       "2            87993.72          39771.39       127765.11\n",
       "3            43647.07          21194.22        64841.29\n",
       "4            18977.29          47900.09        66877.38\n",
       "5            12722.85         174114.81       186837.66\n",
       "6              434.01          11989.48        12423.49\n",
       "7              868.02          16169.05        17037.07\n",
       "8                0.00          16172.29        16172.29\n",
       "9              434.01          16174.44        16608.45"
      ]
     },
     "execution_count": 6,
     "metadata": {},
     "output_type": "execute_result"
    }
   ],
   "source": [
    "%%sql\n",
    "select\n",
    "    Master_msaldototal\n",
    "    , Visa_msaldototal\n",
    "    , Master_msaldototal + Visa_msaldototal as tc_saldo_total\n",
    "from competencia_01 limit 10"
   ]
  },
  {
   "cell_type": "markdown",
   "metadata": {
    "id": "DyzGLXh1Brrt"
   },
   "source": [
    "Pero un DS de a de veras mirará los datos y se encontrará con un campo que es null cuando se lo suma a otro dará null."
   ]
  },
  {
   "cell_type": "code",
   "execution_count": 7,
   "metadata": {
    "colab": {
     "base_uri": "https://localhost:8080/",
     "height": 363
    },
    "executionInfo": {
     "elapsed": 31,
     "status": "ok",
     "timestamp": 1756847895940,
     "user": {
      "displayName": "Alejandro Bolaños",
      "userId": "15513030842131101305"
     },
     "user_tz": 180
    },
    "id": "cVjjQbOFBsZe",
    "outputId": "a404782a-fbb8-4f15-c686-7589fd3d346e"
   },
   "outputs": [
    {
     "data": {
      "text/html": [
       "<div>\n",
       "<style scoped>\n",
       "    .dataframe tbody tr th:only-of-type {\n",
       "        vertical-align: middle;\n",
       "    }\n",
       "\n",
       "    .dataframe tbody tr th {\n",
       "        vertical-align: top;\n",
       "    }\n",
       "\n",
       "    .dataframe thead th {\n",
       "        text-align: right;\n",
       "    }\n",
       "</style>\n",
       "<table border=\"1\" class=\"dataframe\">\n",
       "  <thead>\n",
       "    <tr style=\"text-align: right;\">\n",
       "      <th></th>\n",
       "      <th>Master_msaldototal</th>\n",
       "      <th>Visa_msaldototal</th>\n",
       "      <th>tc_saldo_total</th>\n",
       "    </tr>\n",
       "  </thead>\n",
       "  <tbody>\n",
       "    <tr>\n",
       "      <th>0</th>\n",
       "      <td>NaN</td>\n",
       "      <td>135524.48</td>\n",
       "      <td>NaN</td>\n",
       "    </tr>\n",
       "    <tr>\n",
       "      <th>1</th>\n",
       "      <td>NaN</td>\n",
       "      <td>158113.39</td>\n",
       "      <td>NaN</td>\n",
       "    </tr>\n",
       "    <tr>\n",
       "      <th>2</th>\n",
       "      <td>NaN</td>\n",
       "      <td>148122.11</td>\n",
       "      <td>NaN</td>\n",
       "    </tr>\n",
       "    <tr>\n",
       "      <th>3</th>\n",
       "      <td>NaN</td>\n",
       "      <td>177459.18</td>\n",
       "      <td>NaN</td>\n",
       "    </tr>\n",
       "    <tr>\n",
       "      <th>4</th>\n",
       "      <td>NaN</td>\n",
       "      <td>177972.42</td>\n",
       "      <td>NaN</td>\n",
       "    </tr>\n",
       "    <tr>\n",
       "      <th>5</th>\n",
       "      <td>NaN</td>\n",
       "      <td>170233.70</td>\n",
       "      <td>NaN</td>\n",
       "    </tr>\n",
       "    <tr>\n",
       "      <th>6</th>\n",
       "      <td>NaN</td>\n",
       "      <td>NaN</td>\n",
       "      <td>NaN</td>\n",
       "    </tr>\n",
       "    <tr>\n",
       "      <th>7</th>\n",
       "      <td>NaN</td>\n",
       "      <td>NaN</td>\n",
       "      <td>NaN</td>\n",
       "    </tr>\n",
       "    <tr>\n",
       "      <th>8</th>\n",
       "      <td>NaN</td>\n",
       "      <td>NaN</td>\n",
       "      <td>NaN</td>\n",
       "    </tr>\n",
       "    <tr>\n",
       "      <th>9</th>\n",
       "      <td>NaN</td>\n",
       "      <td>NaN</td>\n",
       "      <td>NaN</td>\n",
       "    </tr>\n",
       "  </tbody>\n",
       "</table>\n",
       "</div>"
      ],
      "text/plain": [
       "   Master_msaldototal  Visa_msaldototal  tc_saldo_total\n",
       "0                 NaN         135524.48             NaN\n",
       "1                 NaN         158113.39             NaN\n",
       "2                 NaN         148122.11             NaN\n",
       "3                 NaN         177459.18             NaN\n",
       "4                 NaN         177972.42             NaN\n",
       "5                 NaN         170233.70             NaN\n",
       "6                 NaN               NaN             NaN\n",
       "7                 NaN               NaN             NaN\n",
       "8                 NaN               NaN             NaN\n",
       "9                 NaN               NaN             NaN"
      ]
     },
     "execution_count": 7,
     "metadata": {},
     "output_type": "execute_result"
    }
   ],
   "source": [
    "%%sql\n",
    "select\n",
    "    Master_msaldototal\n",
    "    , Visa_msaldototal\n",
    "    , Master_msaldototal + Visa_msaldototal as tc_saldo_total\n",
    "from competencia_01 where Master_msaldototal is null limit 10"
   ]
  },
  {
   "cell_type": "markdown",
   "metadata": {
    "id": "rEMjzN2iCRd5"
   },
   "source": [
    "Esto no siempre es deseable y puede ser fácilmente evitable"
   ]
  },
  {
   "cell_type": "code",
   "execution_count": 8,
   "metadata": {
    "colab": {
     "base_uri": "https://localhost:8080/",
     "height": 363
    },
    "executionInfo": {
     "elapsed": 29,
     "status": "ok",
     "timestamp": 1756847913055,
     "user": {
      "displayName": "Alejandro Bolaños",
      "userId": "15513030842131101305"
     },
     "user_tz": 180
    },
    "id": "iRYuh1xiCNgy",
    "outputId": "1da63349-c2ed-4e8c-c663-b8e95ad7b92a"
   },
   "outputs": [
    {
     "data": {
      "text/html": [
       "<div>\n",
       "<style scoped>\n",
       "    .dataframe tbody tr th:only-of-type {\n",
       "        vertical-align: middle;\n",
       "    }\n",
       "\n",
       "    .dataframe tbody tr th {\n",
       "        vertical-align: top;\n",
       "    }\n",
       "\n",
       "    .dataframe thead th {\n",
       "        text-align: right;\n",
       "    }\n",
       "</style>\n",
       "<table border=\"1\" class=\"dataframe\">\n",
       "  <thead>\n",
       "    <tr style=\"text-align: right;\">\n",
       "      <th></th>\n",
       "      <th>Master_msaldototal</th>\n",
       "      <th>Visa_msaldototal</th>\n",
       "      <th>tc_saldo_total</th>\n",
       "    </tr>\n",
       "  </thead>\n",
       "  <tbody>\n",
       "    <tr>\n",
       "      <th>0</th>\n",
       "      <td>21720.62</td>\n",
       "      <td>19216.74</td>\n",
       "      <td>40937.36</td>\n",
       "    </tr>\n",
       "    <tr>\n",
       "      <th>1</th>\n",
       "      <td>53966.31</td>\n",
       "      <td>34021.47</td>\n",
       "      <td>87987.78</td>\n",
       "    </tr>\n",
       "    <tr>\n",
       "      <th>2</th>\n",
       "      <td>87993.72</td>\n",
       "      <td>39771.39</td>\n",
       "      <td>127765.11</td>\n",
       "    </tr>\n",
       "    <tr>\n",
       "      <th>3</th>\n",
       "      <td>43647.07</td>\n",
       "      <td>21194.22</td>\n",
       "      <td>64841.29</td>\n",
       "    </tr>\n",
       "    <tr>\n",
       "      <th>4</th>\n",
       "      <td>18977.29</td>\n",
       "      <td>47900.09</td>\n",
       "      <td>66877.38</td>\n",
       "    </tr>\n",
       "    <tr>\n",
       "      <th>5</th>\n",
       "      <td>12722.85</td>\n",
       "      <td>174114.81</td>\n",
       "      <td>186837.66</td>\n",
       "    </tr>\n",
       "    <tr>\n",
       "      <th>6</th>\n",
       "      <td>434.01</td>\n",
       "      <td>11989.48</td>\n",
       "      <td>12423.49</td>\n",
       "    </tr>\n",
       "    <tr>\n",
       "      <th>7</th>\n",
       "      <td>868.02</td>\n",
       "      <td>16169.05</td>\n",
       "      <td>17037.07</td>\n",
       "    </tr>\n",
       "    <tr>\n",
       "      <th>8</th>\n",
       "      <td>0.00</td>\n",
       "      <td>16172.29</td>\n",
       "      <td>16172.29</td>\n",
       "    </tr>\n",
       "    <tr>\n",
       "      <th>9</th>\n",
       "      <td>434.01</td>\n",
       "      <td>16174.44</td>\n",
       "      <td>16608.45</td>\n",
       "    </tr>\n",
       "  </tbody>\n",
       "</table>\n",
       "</div>"
      ],
      "text/plain": [
       "   Master_msaldototal  Visa_msaldototal  tc_saldo_total\n",
       "0            21720.62          19216.74        40937.36\n",
       "1            53966.31          34021.47        87987.78\n",
       "2            87993.72          39771.39       127765.11\n",
       "3            43647.07          21194.22        64841.29\n",
       "4            18977.29          47900.09        66877.38\n",
       "5            12722.85         174114.81       186837.66\n",
       "6              434.01          11989.48        12423.49\n",
       "7              868.02          16169.05        17037.07\n",
       "8                0.00          16172.29        16172.29\n",
       "9              434.01          16174.44        16608.45"
      ]
     },
     "execution_count": 8,
     "metadata": {},
     "output_type": "execute_result"
    }
   ],
   "source": [
    "%%sql\n",
    "select\n",
    "    Master_msaldototal\n",
    "    , Visa_msaldototal\n",
    "    , ifnull(Master_msaldototal, 0) + ifnull(Visa_msaldototal, 0) as tc_saldo_total\n",
    "from competencia_01 limit 10"
   ]
  },
  {
   "cell_type": "code",
   "execution_count": 9,
   "metadata": {
    "colab": {
     "base_uri": "https://localhost:8080/",
     "height": 53
    },
    "executionInfo": {
     "elapsed": 12,
     "status": "ok",
     "timestamp": 1756847916744,
     "user": {
      "displayName": "Alejandro Bolaños",
      "userId": "15513030842131101305"
     },
     "user_tz": 180
    },
    "id": "KmOP6dcaCYKR",
    "outputId": "b94bd5a2-2675-410e-fc8f-214d589b3ff1"
   },
   "outputs": [
    {
     "data": {
      "text/html": [
       "<div>\n",
       "<style scoped>\n",
       "    .dataframe tbody tr th:only-of-type {\n",
       "        vertical-align: middle;\n",
       "    }\n",
       "\n",
       "    .dataframe tbody tr th {\n",
       "        vertical-align: top;\n",
       "    }\n",
       "\n",
       "    .dataframe thead th {\n",
       "        text-align: right;\n",
       "    }\n",
       "</style>\n",
       "<table border=\"1\" class=\"dataframe\">\n",
       "  <thead>\n",
       "    <tr style=\"text-align: right;\">\n",
       "      <th></th>\n",
       "      <th>Success</th>\n",
       "    </tr>\n",
       "  </thead>\n",
       "  <tbody>\n",
       "  </tbody>\n",
       "</table>\n",
       "</div>"
      ],
      "text/plain": [
       "Empty DataFrame\n",
       "Columns: [Success]\n",
       "Index: []"
      ]
     },
     "execution_count": 9,
     "metadata": {},
     "output_type": "execute_result"
    }
   ],
   "source": [
    "%%sql\n",
    "CREATE OR REPLACE MACRO suma_sin_null(a, b) AS ifnull(a, 0) + ifnull(b, 0);\n"
   ]
  },
  {
   "cell_type": "code",
   "execution_count": 10,
   "metadata": {
    "colab": {
     "base_uri": "https://localhost:8080/",
     "height": 363
    },
    "executionInfo": {
     "elapsed": 74,
     "status": "ok",
     "timestamp": 1756847923449,
     "user": {
      "displayName": "Alejandro Bolaños",
      "userId": "15513030842131101305"
     },
     "user_tz": 180
    },
    "id": "UZMmNnxOHRn-",
    "outputId": "c87179ce-6ab8-49ca-d5b9-1c889da53e3c"
   },
   "outputs": [
    {
     "data": {
      "text/html": [
       "<div>\n",
       "<style scoped>\n",
       "    .dataframe tbody tr th:only-of-type {\n",
       "        vertical-align: middle;\n",
       "    }\n",
       "\n",
       "    .dataframe tbody tr th {\n",
       "        vertical-align: top;\n",
       "    }\n",
       "\n",
       "    .dataframe thead th {\n",
       "        text-align: right;\n",
       "    }\n",
       "</style>\n",
       "<table border=\"1\" class=\"dataframe\">\n",
       "  <thead>\n",
       "    <tr style=\"text-align: right;\">\n",
       "      <th></th>\n",
       "      <th>Master_msaldototal</th>\n",
       "      <th>Visa_msaldototal</th>\n",
       "      <th>tc_saldo_total</th>\n",
       "    </tr>\n",
       "  </thead>\n",
       "  <tbody>\n",
       "    <tr>\n",
       "      <th>0</th>\n",
       "      <td>NaN</td>\n",
       "      <td>43774.30</td>\n",
       "      <td>43774.30</td>\n",
       "    </tr>\n",
       "    <tr>\n",
       "      <th>1</th>\n",
       "      <td>NaN</td>\n",
       "      <td>NaN</td>\n",
       "      <td>0.00</td>\n",
       "    </tr>\n",
       "    <tr>\n",
       "      <th>2</th>\n",
       "      <td>NaN</td>\n",
       "      <td>89394.06</td>\n",
       "      <td>89394.06</td>\n",
       "    </tr>\n",
       "    <tr>\n",
       "      <th>3</th>\n",
       "      <td>NaN</td>\n",
       "      <td>8538.26</td>\n",
       "      <td>8538.26</td>\n",
       "    </tr>\n",
       "    <tr>\n",
       "      <th>4</th>\n",
       "      <td>NaN</td>\n",
       "      <td>10939.65</td>\n",
       "      <td>10939.65</td>\n",
       "    </tr>\n",
       "    <tr>\n",
       "      <th>5</th>\n",
       "      <td>NaN</td>\n",
       "      <td>10690.59</td>\n",
       "      <td>10690.59</td>\n",
       "    </tr>\n",
       "    <tr>\n",
       "      <th>6</th>\n",
       "      <td>NaN</td>\n",
       "      <td>1161.23</td>\n",
       "      <td>1161.23</td>\n",
       "    </tr>\n",
       "    <tr>\n",
       "      <th>7</th>\n",
       "      <td>NaN</td>\n",
       "      <td>57368.20</td>\n",
       "      <td>57368.20</td>\n",
       "    </tr>\n",
       "    <tr>\n",
       "      <th>8</th>\n",
       "      <td>NaN</td>\n",
       "      <td>8131.28</td>\n",
       "      <td>8131.28</td>\n",
       "    </tr>\n",
       "    <tr>\n",
       "      <th>9</th>\n",
       "      <td>NaN</td>\n",
       "      <td>133171.46</td>\n",
       "      <td>133171.46</td>\n",
       "    </tr>\n",
       "  </tbody>\n",
       "</table>\n",
       "</div>"
      ],
      "text/plain": [
       "   Master_msaldototal  Visa_msaldototal  tc_saldo_total\n",
       "0                 NaN          43774.30        43774.30\n",
       "1                 NaN               NaN            0.00\n",
       "2                 NaN          89394.06        89394.06\n",
       "3                 NaN           8538.26         8538.26\n",
       "4                 NaN          10939.65        10939.65\n",
       "5                 NaN          10690.59        10690.59\n",
       "6                 NaN           1161.23         1161.23\n",
       "7                 NaN          57368.20        57368.20\n",
       "8                 NaN           8131.28         8131.28\n",
       "9                 NaN         133171.46       133171.46"
      ]
     },
     "execution_count": 10,
     "metadata": {},
     "output_type": "execute_result"
    }
   ],
   "source": [
    "%%sql\n",
    "select distinct\n",
    "    Master_msaldototal\n",
    "    , Visa_msaldototal\n",
    "    , suma_sin_null(Master_msaldototal, Visa_msaldototal) as tc_saldo_total\n",
    "from competencia_01 where Master_msaldototal is null limit 10\n"
   ]
  },
  {
   "cell_type": "markdown",
   "metadata": {
    "id": "ZL2Ui5fDI3lu"
   },
   "source": [
    "TAREA: Escriba una macro para hacer un ratio de dos variables que sea seguro, donde no solo hay campos con null, también esta el problema de la división por cero. Como es costumbre comparta su solución por este canal. Lea https://duckdb.org/docs/sql/functions/numeric.html para referencias de funciones que puede usar.\n",
    "\n",
    "---\n",
    "\n",
    "\"Claro!\" me dirá, mientras lee esto con un mate en la mano, \"para cosas fáciles usar SQL alcanza, pero para algo más complicado como crear campos contra el data drifting es difícil\".... elija su medicina:"
   ]
  },
  {
   "cell_type": "code",
   "execution_count": 11,
   "metadata": {
    "colab": {
     "base_uri": "https://localhost:8080/",
     "height": 424
    },
    "executionInfo": {
     "elapsed": 2618,
     "status": "ok",
     "timestamp": 1756847931371,
     "user": {
      "displayName": "Alejandro Bolaños",
      "userId": "15513030842131101305"
     },
     "user_tz": 180
    },
    "id": "lwFjk5_9JAhC",
    "outputId": "602069c7-c5f5-46ef-8e73-f44126add532"
   },
   "outputs": [
    {
     "data": {
      "text/html": [
       "<div>\n",
       "<style scoped>\n",
       "    .dataframe tbody tr th:only-of-type {\n",
       "        vertical-align: middle;\n",
       "    }\n",
       "\n",
       "    .dataframe tbody tr th {\n",
       "        vertical-align: top;\n",
       "    }\n",
       "\n",
       "    .dataframe thead th {\n",
       "        text-align: right;\n",
       "    }\n",
       "</style>\n",
       "<table border=\"1\" class=\"dataframe\">\n",
       "  <thead>\n",
       "    <tr style=\"text-align: right;\">\n",
       "      <th></th>\n",
       "      <th>foto_mes</th>\n",
       "      <th>numero_de_cliente</th>\n",
       "      <th>cliente_antiguedad</th>\n",
       "      <th>cliente_antiguedad_2</th>\n",
       "      <th>cliente_antiguedad_3</th>\n",
       "      <th>cliente_antiguedad_4</th>\n",
       "      <th>cliente_antiguedad_5</th>\n",
       "      <th>cliente_antiguedad_6</th>\n",
       "    </tr>\n",
       "  </thead>\n",
       "  <tbody>\n",
       "    <tr>\n",
       "      <th>0</th>\n",
       "      <td>202101</td>\n",
       "      <td>249221323</td>\n",
       "      <td>93</td>\n",
       "      <td>1</td>\n",
       "      <td>0.379128</td>\n",
       "      <td>0.382611</td>\n",
       "      <td>2</td>\n",
       "      <td>4</td>\n",
       "    </tr>\n",
       "    <tr>\n",
       "      <th>1</th>\n",
       "      <td>202102</td>\n",
       "      <td>249221323</td>\n",
       "      <td>94</td>\n",
       "      <td>2</td>\n",
       "      <td>0.381582</td>\n",
       "      <td>0.385027</td>\n",
       "      <td>2</td>\n",
       "      <td>4</td>\n",
       "    </tr>\n",
       "    <tr>\n",
       "      <th>2</th>\n",
       "      <td>202103</td>\n",
       "      <td>249221323</td>\n",
       "      <td>95</td>\n",
       "      <td>3</td>\n",
       "      <td>0.384825</td>\n",
       "      <td>0.388262</td>\n",
       "      <td>2</td>\n",
       "      <td>4</td>\n",
       "    </tr>\n",
       "    <tr>\n",
       "      <th>3</th>\n",
       "      <td>202104</td>\n",
       "      <td>249221323</td>\n",
       "      <td>96</td>\n",
       "      <td>4</td>\n",
       "      <td>0.387151</td>\n",
       "      <td>0.390593</td>\n",
       "      <td>2</td>\n",
       "      <td>4</td>\n",
       "    </tr>\n",
       "    <tr>\n",
       "      <th>4</th>\n",
       "      <td>202105</td>\n",
       "      <td>249221323</td>\n",
       "      <td>97</td>\n",
       "      <td>5</td>\n",
       "      <td>0.389944</td>\n",
       "      <td>0.393394</td>\n",
       "      <td>2</td>\n",
       "      <td>4</td>\n",
       "    </tr>\n",
       "    <tr>\n",
       "      <th>...</th>\n",
       "      <td>...</td>\n",
       "      <td>...</td>\n",
       "      <td>...</td>\n",
       "      <td>...</td>\n",
       "      <td>...</td>\n",
       "      <td>...</td>\n",
       "      <td>...</td>\n",
       "      <td>...</td>\n",
       "    </tr>\n",
       "    <tr>\n",
       "      <th>978434</th>\n",
       "      <td>202106</td>\n",
       "      <td>1598368433</td>\n",
       "      <td>1</td>\n",
       "      <td>1</td>\n",
       "      <td>0.000000</td>\n",
       "      <td>0.001808</td>\n",
       "      <td>1</td>\n",
       "      <td>1</td>\n",
       "    </tr>\n",
       "    <tr>\n",
       "      <th>978435</th>\n",
       "      <td>202106</td>\n",
       "      <td>1598419415</td>\n",
       "      <td>1</td>\n",
       "      <td>1</td>\n",
       "      <td>0.000000</td>\n",
       "      <td>0.001808</td>\n",
       "      <td>1</td>\n",
       "      <td>1</td>\n",
       "    </tr>\n",
       "    <tr>\n",
       "      <th>978436</th>\n",
       "      <td>202106</td>\n",
       "      <td>1598425905</td>\n",
       "      <td>1</td>\n",
       "      <td>1</td>\n",
       "      <td>0.000000</td>\n",
       "      <td>0.001808</td>\n",
       "      <td>1</td>\n",
       "      <td>1</td>\n",
       "    </tr>\n",
       "    <tr>\n",
       "      <th>978437</th>\n",
       "      <td>202106</td>\n",
       "      <td>1598470389</td>\n",
       "      <td>1</td>\n",
       "      <td>1</td>\n",
       "      <td>0.000000</td>\n",
       "      <td>0.001808</td>\n",
       "      <td>1</td>\n",
       "      <td>1</td>\n",
       "    </tr>\n",
       "    <tr>\n",
       "      <th>978438</th>\n",
       "      <td>202106</td>\n",
       "      <td>1598550167</td>\n",
       "      <td>1</td>\n",
       "      <td>1</td>\n",
       "      <td>0.000000</td>\n",
       "      <td>0.001808</td>\n",
       "      <td>1</td>\n",
       "      <td>1</td>\n",
       "    </tr>\n",
       "  </tbody>\n",
       "</table>\n",
       "<p>978439 rows × 8 columns</p>\n",
       "</div>"
      ],
      "text/plain": [
       "        foto_mes  numero_de_cliente  cliente_antiguedad  cliente_antiguedad_2  \\\n",
       "0         202101          249221323                  93                     1   \n",
       "1         202102          249221323                  94                     2   \n",
       "2         202103          249221323                  95                     3   \n",
       "3         202104          249221323                  96                     4   \n",
       "4         202105          249221323                  97                     5   \n",
       "...          ...                ...                 ...                   ...   \n",
       "978434    202106         1598368433                   1                     1   \n",
       "978435    202106         1598419415                   1                     1   \n",
       "978436    202106         1598425905                   1                     1   \n",
       "978437    202106         1598470389                   1                     1   \n",
       "978438    202106         1598550167                   1                     1   \n",
       "\n",
       "        cliente_antiguedad_3  cliente_antiguedad_4  cliente_antiguedad_5  \\\n",
       "0                   0.379128              0.382611                     2   \n",
       "1                   0.381582              0.385027                     2   \n",
       "2                   0.384825              0.388262                     2   \n",
       "3                   0.387151              0.390593                     2   \n",
       "4                   0.389944              0.393394                     2   \n",
       "...                      ...                   ...                   ...   \n",
       "978434              0.000000              0.001808                     1   \n",
       "978435              0.000000              0.001808                     1   \n",
       "978436              0.000000              0.001808                     1   \n",
       "978437              0.000000              0.001808                     1   \n",
       "978438              0.000000              0.001808                     1   \n",
       "\n",
       "        cliente_antiguedad_6  \n",
       "0                          4  \n",
       "1                          4  \n",
       "2                          4  \n",
       "3                          4  \n",
       "4                          4  \n",
       "...                      ...  \n",
       "978434                     1  \n",
       "978435                     1  \n",
       "978436                     1  \n",
       "978437                     1  \n",
       "978438                     1  \n",
       "\n",
       "[978439 rows x 8 columns]"
      ]
     },
     "execution_count": 11,
     "metadata": {},
     "output_type": "execute_result"
    }
   ],
   "source": [
    "%%sql\n",
    "select\n",
    "    foto_mes\n",
    "    , numero_de_cliente\n",
    "    , cliente_antiguedad\n",
    "    , row_number() over (partition by numero_de_cliente order by foto_mes) as cliente_antiguedad_2\n",
    "    , percent_rank() over (partition by foto_mes order by cliente_antiguedad) as cliente_antiguedad_3\n",
    "    , cume_dist() over (partition by foto_mes order by cliente_antiguedad) as cliente_antiguedad_4\n",
    "    , ntile(4) over (partition by foto_mes order by cliente_antiguedad) as cliente_antiguedad_5\n",
    "    , ntile(10) over (partition by foto_mes order by cliente_antiguedad) as cliente_antiguedad_6\n",
    "from competencia_01\n",
    "order by numero_de_cliente, cliente_antiguedad\n"
   ]
  },
  {
   "cell_type": "markdown",
   "metadata": {
    "id": "weXY2U2oLHFd"
   },
   "source": [
    "Qué paso? use las hermosas funciones analíticas de SQL. Al campo cliente_antiguedad (que no sufre de data drifting, solo esta para dar el ejemplo) para cada período (partition by foto_mes) la ordeno (order by cliente_antiguedad) y luego calculo las métricas de orden que pueden encontrar acá https://duckdb.org/docs/sql/window_functions.html#general-purpose-window-functions.\n",
    "\n",
    "Seguiremos usando las funciones analíticas de SQL, esta vez para calcular features que utilizan valores del pasado.\n",
    "\n",
    "Qué pasa si quiero agregar un feature que muestre el valor del periodo anterior?\n"
   ]
  },
  {
   "cell_type": "code",
   "execution_count": 12,
   "metadata": {
    "colab": {
     "base_uri": "https://localhost:8080/",
     "height": 363
    },
    "executionInfo": {
     "elapsed": 644,
     "status": "ok",
     "timestamp": 1756847943532,
     "user": {
      "displayName": "Alejandro Bolaños",
      "userId": "15513030842131101305"
     },
     "user_tz": 180
    },
    "id": "PeE8H0BZLF4q",
    "outputId": "b9dda3e7-ee28-48b3-c1fc-a5ce4a2dc8c6"
   },
   "outputs": [
    {
     "data": {
      "text/html": [
       "<div>\n",
       "<style scoped>\n",
       "    .dataframe tbody tr th:only-of-type {\n",
       "        vertical-align: middle;\n",
       "    }\n",
       "\n",
       "    .dataframe tbody tr th {\n",
       "        vertical-align: top;\n",
       "    }\n",
       "\n",
       "    .dataframe thead th {\n",
       "        text-align: right;\n",
       "    }\n",
       "</style>\n",
       "<table border=\"1\" class=\"dataframe\">\n",
       "  <thead>\n",
       "    <tr style=\"text-align: right;\">\n",
       "      <th></th>\n",
       "      <th>numero_de_cliente</th>\n",
       "      <th>foto_mes</th>\n",
       "      <th>ctrx_quarter</th>\n",
       "      <th>lag_1_ctrx_quarter</th>\n",
       "    </tr>\n",
       "  </thead>\n",
       "  <tbody>\n",
       "    <tr>\n",
       "      <th>0</th>\n",
       "      <td>249320580</td>\n",
       "      <td>202101</td>\n",
       "      <td>61</td>\n",
       "      <td>&lt;NA&gt;</td>\n",
       "    </tr>\n",
       "    <tr>\n",
       "      <th>1</th>\n",
       "      <td>249320580</td>\n",
       "      <td>202102</td>\n",
       "      <td>64</td>\n",
       "      <td>61</td>\n",
       "    </tr>\n",
       "    <tr>\n",
       "      <th>2</th>\n",
       "      <td>249320580</td>\n",
       "      <td>202103</td>\n",
       "      <td>82</td>\n",
       "      <td>64</td>\n",
       "    </tr>\n",
       "    <tr>\n",
       "      <th>3</th>\n",
       "      <td>249320580</td>\n",
       "      <td>202104</td>\n",
       "      <td>82</td>\n",
       "      <td>82</td>\n",
       "    </tr>\n",
       "    <tr>\n",
       "      <th>4</th>\n",
       "      <td>249320580</td>\n",
       "      <td>202105</td>\n",
       "      <td>83</td>\n",
       "      <td>82</td>\n",
       "    </tr>\n",
       "    <tr>\n",
       "      <th>5</th>\n",
       "      <td>249320580</td>\n",
       "      <td>202106</td>\n",
       "      <td>67</td>\n",
       "      <td>83</td>\n",
       "    </tr>\n",
       "    <tr>\n",
       "      <th>6</th>\n",
       "      <td>249368642</td>\n",
       "      <td>202101</td>\n",
       "      <td>75</td>\n",
       "      <td>&lt;NA&gt;</td>\n",
       "    </tr>\n",
       "    <tr>\n",
       "      <th>7</th>\n",
       "      <td>249368642</td>\n",
       "      <td>202102</td>\n",
       "      <td>71</td>\n",
       "      <td>75</td>\n",
       "    </tr>\n",
       "    <tr>\n",
       "      <th>8</th>\n",
       "      <td>249368642</td>\n",
       "      <td>202103</td>\n",
       "      <td>77</td>\n",
       "      <td>71</td>\n",
       "    </tr>\n",
       "    <tr>\n",
       "      <th>9</th>\n",
       "      <td>249368642</td>\n",
       "      <td>202104</td>\n",
       "      <td>74</td>\n",
       "      <td>77</td>\n",
       "    </tr>\n",
       "  </tbody>\n",
       "</table>\n",
       "</div>"
      ],
      "text/plain": [
       "   numero_de_cliente  foto_mes  ctrx_quarter  lag_1_ctrx_quarter\n",
       "0          249320580    202101            61                <NA>\n",
       "1          249320580    202102            64                  61\n",
       "2          249320580    202103            82                  64\n",
       "3          249320580    202104            82                  82\n",
       "4          249320580    202105            83                  82\n",
       "5          249320580    202106            67                  83\n",
       "6          249368642    202101            75                <NA>\n",
       "7          249368642    202102            71                  75\n",
       "8          249368642    202103            77                  71\n",
       "9          249368642    202104            74                  77"
      ]
     },
     "execution_count": 12,
     "metadata": {},
     "output_type": "execute_result"
    }
   ],
   "source": [
    "%%sql\n",
    "select\n",
    "  numero_de_cliente\n",
    "  , foto_mes\n",
    "  , ctrx_quarter\n",
    "  , lag(ctrx_quarter, 1) over (partition by numero_de_cliente order by foto_mes) as lag_1_ctrx_quarter\n",
    "from competencia_01\n",
    "limit 10\n"
   ]
  },
  {
   "cell_type": "markdown",
   "metadata": {
    "id": "YArVBpb8LSGL"
   },
   "source": [
    "Podemos calcular el delta (diferencia) entre el valor pasado y el presente, para uno o varios meses\n"
   ]
  },
  {
   "cell_type": "code",
   "execution_count": 13,
   "metadata": {
    "colab": {
     "base_uri": "https://localhost:8080/",
     "height": 363
    },
    "executionInfo": {
     "elapsed": 357,
     "status": "ok",
     "timestamp": 1756847946967,
     "user": {
      "displayName": "Alejandro Bolaños",
      "userId": "15513030842131101305"
     },
     "user_tz": 180
    },
    "id": "3fzJHwWsLU2u",
    "outputId": "f4209e7e-bce9-4edd-9911-a8c295b8d57d"
   },
   "outputs": [
    {
     "data": {
      "text/html": [
       "<div>\n",
       "<style scoped>\n",
       "    .dataframe tbody tr th:only-of-type {\n",
       "        vertical-align: middle;\n",
       "    }\n",
       "\n",
       "    .dataframe tbody tr th {\n",
       "        vertical-align: top;\n",
       "    }\n",
       "\n",
       "    .dataframe thead th {\n",
       "        text-align: right;\n",
       "    }\n",
       "</style>\n",
       "<table border=\"1\" class=\"dataframe\">\n",
       "  <thead>\n",
       "    <tr style=\"text-align: right;\">\n",
       "      <th></th>\n",
       "      <th>numero_de_cliente</th>\n",
       "      <th>foto_mes</th>\n",
       "      <th>ctrx_quarter</th>\n",
       "      <th>lag_1_ctrx_quarter</th>\n",
       "      <th>delta_1_ctrx_quarter</th>\n",
       "      <th>lag_2_ctrx_quarter</th>\n",
       "    </tr>\n",
       "  </thead>\n",
       "  <tbody>\n",
       "    <tr>\n",
       "      <th>0</th>\n",
       "      <td>449473428</td>\n",
       "      <td>202105</td>\n",
       "      <td>224</td>\n",
       "      <td>178</td>\n",
       "      <td>46</td>\n",
       "      <td>87</td>\n",
       "    </tr>\n",
       "    <tr>\n",
       "      <th>1</th>\n",
       "      <td>449473428</td>\n",
       "      <td>202106</td>\n",
       "      <td>251</td>\n",
       "      <td>224</td>\n",
       "      <td>27</td>\n",
       "      <td>73</td>\n",
       "    </tr>\n",
       "    <tr>\n",
       "      <th>2</th>\n",
       "      <td>449502600</td>\n",
       "      <td>202101</td>\n",
       "      <td>133</td>\n",
       "      <td>&lt;NA&gt;</td>\n",
       "      <td>&lt;NA&gt;</td>\n",
       "      <td>&lt;NA&gt;</td>\n",
       "    </tr>\n",
       "    <tr>\n",
       "      <th>3</th>\n",
       "      <td>449502600</td>\n",
       "      <td>202102</td>\n",
       "      <td>137</td>\n",
       "      <td>133</td>\n",
       "      <td>4</td>\n",
       "      <td>&lt;NA&gt;</td>\n",
       "    </tr>\n",
       "    <tr>\n",
       "      <th>4</th>\n",
       "      <td>449502600</td>\n",
       "      <td>202103</td>\n",
       "      <td>147</td>\n",
       "      <td>137</td>\n",
       "      <td>10</td>\n",
       "      <td>14</td>\n",
       "    </tr>\n",
       "    <tr>\n",
       "      <th>5</th>\n",
       "      <td>449502600</td>\n",
       "      <td>202104</td>\n",
       "      <td>138</td>\n",
       "      <td>147</td>\n",
       "      <td>-9</td>\n",
       "      <td>1</td>\n",
       "    </tr>\n",
       "    <tr>\n",
       "      <th>6</th>\n",
       "      <td>449502600</td>\n",
       "      <td>202105</td>\n",
       "      <td>136</td>\n",
       "      <td>138</td>\n",
       "      <td>-2</td>\n",
       "      <td>-11</td>\n",
       "    </tr>\n",
       "    <tr>\n",
       "      <th>7</th>\n",
       "      <td>449502600</td>\n",
       "      <td>202106</td>\n",
       "      <td>131</td>\n",
       "      <td>136</td>\n",
       "      <td>-5</td>\n",
       "      <td>-7</td>\n",
       "    </tr>\n",
       "    <tr>\n",
       "      <th>8</th>\n",
       "      <td>449563419</td>\n",
       "      <td>202101</td>\n",
       "      <td>113</td>\n",
       "      <td>&lt;NA&gt;</td>\n",
       "      <td>&lt;NA&gt;</td>\n",
       "      <td>&lt;NA&gt;</td>\n",
       "    </tr>\n",
       "    <tr>\n",
       "      <th>9</th>\n",
       "      <td>449563419</td>\n",
       "      <td>202102</td>\n",
       "      <td>116</td>\n",
       "      <td>113</td>\n",
       "      <td>3</td>\n",
       "      <td>&lt;NA&gt;</td>\n",
       "    </tr>\n",
       "  </tbody>\n",
       "</table>\n",
       "</div>"
      ],
      "text/plain": [
       "   numero_de_cliente  foto_mes  ctrx_quarter  lag_1_ctrx_quarter  \\\n",
       "0          449473428    202105           224                 178   \n",
       "1          449473428    202106           251                 224   \n",
       "2          449502600    202101           133                <NA>   \n",
       "3          449502600    202102           137                 133   \n",
       "4          449502600    202103           147                 137   \n",
       "5          449502600    202104           138                 147   \n",
       "6          449502600    202105           136                 138   \n",
       "7          449502600    202106           131                 136   \n",
       "8          449563419    202101           113                <NA>   \n",
       "9          449563419    202102           116                 113   \n",
       "\n",
       "   delta_1_ctrx_quarter  lag_2_ctrx_quarter  \n",
       "0                    46                  87  \n",
       "1                    27                  73  \n",
       "2                  <NA>                <NA>  \n",
       "3                     4                <NA>  \n",
       "4                    10                  14  \n",
       "5                    -9                   1  \n",
       "6                    -2                 -11  \n",
       "7                    -5                  -7  \n",
       "8                  <NA>                <NA>  \n",
       "9                     3                <NA>  "
      ]
     },
     "execution_count": 13,
     "metadata": {},
     "output_type": "execute_result"
    }
   ],
   "source": [
    "%%sql\n",
    "select\n",
    "  numero_de_cliente\n",
    "  , foto_mes\n",
    "  , ctrx_quarter\n",
    "  , lag(ctrx_quarter, 1) over (partition by numero_de_cliente order by foto_mes) as lag_1_ctrx_quarter\n",
    "  , ctrx_quarter - lag_1_ctrx_quarter as delta_1_ctrx_quarter\n",
    "  , ctrx_quarter - lag(ctrx_quarter, 2) over (partition by numero_de_cliente order by foto_mes) as lag_2_ctrx_quarter\n",
    "from competencia_01\n",
    "limit 10\n"
   ]
  },
  {
   "cell_type": "markdown",
   "metadata": {
    "id": "5_sDG_hmLdh6"
   },
   "source": [
    "Si necesitamos ya no solo traer un valor del pasado, sino una secuencia de valores, por ejemplo para calcular la media móvil con los últimos 3 meses anteriores? se puede hacer fácilmente\n"
   ]
  },
  {
   "cell_type": "code",
   "execution_count": 14,
   "metadata": {
    "colab": {
     "base_uri": "https://localhost:8080/",
     "height": 363
    },
    "executionInfo": {
     "elapsed": 794,
     "status": "ok",
     "timestamp": 1756847952677,
     "user": {
      "displayName": "Alejandro Bolaños",
      "userId": "15513030842131101305"
     },
     "user_tz": 180
    },
    "id": "c_qtb1HzLXn5",
    "outputId": "66a28a18-93ed-4096-a608-b0e17efb2b2b"
   },
   "outputs": [
    {
     "data": {
      "text/html": [
       "<div>\n",
       "<style scoped>\n",
       "    .dataframe tbody tr th:only-of-type {\n",
       "        vertical-align: middle;\n",
       "    }\n",
       "\n",
       "    .dataframe tbody tr th {\n",
       "        vertical-align: top;\n",
       "    }\n",
       "\n",
       "    .dataframe thead th {\n",
       "        text-align: right;\n",
       "    }\n",
       "</style>\n",
       "<table border=\"1\" class=\"dataframe\">\n",
       "  <thead>\n",
       "    <tr style=\"text-align: right;\">\n",
       "      <th></th>\n",
       "      <th>numero_de_cliente</th>\n",
       "      <th>foto_mes</th>\n",
       "      <th>ctrx_quarter</th>\n",
       "      <th>lag_1_ctrx_quarter</th>\n",
       "      <th>lag_2_ctrx_quarter</th>\n",
       "      <th>lag_3_ctrx_quarter</th>\n",
       "      <th>avg_3_ctrx_quarter</th>\n",
       "    </tr>\n",
       "  </thead>\n",
       "  <tbody>\n",
       "    <tr>\n",
       "      <th>0</th>\n",
       "      <td>249221323</td>\n",
       "      <td>202106</td>\n",
       "      <td>91</td>\n",
       "      <td>81</td>\n",
       "      <td>89</td>\n",
       "      <td>89</td>\n",
       "      <td>87.500000</td>\n",
       "    </tr>\n",
       "    <tr>\n",
       "      <th>1</th>\n",
       "      <td>249221323</td>\n",
       "      <td>202105</td>\n",
       "      <td>81</td>\n",
       "      <td>89</td>\n",
       "      <td>89</td>\n",
       "      <td>97</td>\n",
       "      <td>89.000000</td>\n",
       "    </tr>\n",
       "    <tr>\n",
       "      <th>2</th>\n",
       "      <td>249221323</td>\n",
       "      <td>202104</td>\n",
       "      <td>89</td>\n",
       "      <td>89</td>\n",
       "      <td>97</td>\n",
       "      <td>82</td>\n",
       "      <td>89.250000</td>\n",
       "    </tr>\n",
       "    <tr>\n",
       "      <th>3</th>\n",
       "      <td>249221323</td>\n",
       "      <td>202103</td>\n",
       "      <td>89</td>\n",
       "      <td>97</td>\n",
       "      <td>82</td>\n",
       "      <td>&lt;NA&gt;</td>\n",
       "      <td>89.333333</td>\n",
       "    </tr>\n",
       "    <tr>\n",
       "      <th>4</th>\n",
       "      <td>249221323</td>\n",
       "      <td>202102</td>\n",
       "      <td>97</td>\n",
       "      <td>82</td>\n",
       "      <td>&lt;NA&gt;</td>\n",
       "      <td>&lt;NA&gt;</td>\n",
       "      <td>89.500000</td>\n",
       "    </tr>\n",
       "    <tr>\n",
       "      <th>5</th>\n",
       "      <td>249221323</td>\n",
       "      <td>202101</td>\n",
       "      <td>82</td>\n",
       "      <td>&lt;NA&gt;</td>\n",
       "      <td>&lt;NA&gt;</td>\n",
       "      <td>&lt;NA&gt;</td>\n",
       "      <td>82.000000</td>\n",
       "    </tr>\n",
       "    <tr>\n",
       "      <th>6</th>\n",
       "      <td>249227600</td>\n",
       "      <td>202106</td>\n",
       "      <td>150</td>\n",
       "      <td>170</td>\n",
       "      <td>155</td>\n",
       "      <td>147</td>\n",
       "      <td>155.500000</td>\n",
       "    </tr>\n",
       "    <tr>\n",
       "      <th>7</th>\n",
       "      <td>249227600</td>\n",
       "      <td>202105</td>\n",
       "      <td>170</td>\n",
       "      <td>155</td>\n",
       "      <td>147</td>\n",
       "      <td>126</td>\n",
       "      <td>149.500000</td>\n",
       "    </tr>\n",
       "    <tr>\n",
       "      <th>8</th>\n",
       "      <td>249227600</td>\n",
       "      <td>202104</td>\n",
       "      <td>155</td>\n",
       "      <td>147</td>\n",
       "      <td>126</td>\n",
       "      <td>148</td>\n",
       "      <td>144.000000</td>\n",
       "    </tr>\n",
       "    <tr>\n",
       "      <th>9</th>\n",
       "      <td>249227600</td>\n",
       "      <td>202103</td>\n",
       "      <td>147</td>\n",
       "      <td>126</td>\n",
       "      <td>148</td>\n",
       "      <td>&lt;NA&gt;</td>\n",
       "      <td>140.333333</td>\n",
       "    </tr>\n",
       "  </tbody>\n",
       "</table>\n",
       "</div>"
      ],
      "text/plain": [
       "   numero_de_cliente  foto_mes  ctrx_quarter  lag_1_ctrx_quarter  \\\n",
       "0          249221323    202106            91                  81   \n",
       "1          249221323    202105            81                  89   \n",
       "2          249221323    202104            89                  89   \n",
       "3          249221323    202103            89                  97   \n",
       "4          249221323    202102            97                  82   \n",
       "5          249221323    202101            82                <NA>   \n",
       "6          249227600    202106           150                 170   \n",
       "7          249227600    202105           170                 155   \n",
       "8          249227600    202104           155                 147   \n",
       "9          249227600    202103           147                 126   \n",
       "\n",
       "   lag_2_ctrx_quarter  lag_3_ctrx_quarter  avg_3_ctrx_quarter  \n",
       "0                  89                  89           87.500000  \n",
       "1                  89                  97           89.000000  \n",
       "2                  97                  82           89.250000  \n",
       "3                  82                <NA>           89.333333  \n",
       "4                <NA>                <NA>           89.500000  \n",
       "5                <NA>                <NA>           82.000000  \n",
       "6                 155                 147          155.500000  \n",
       "7                 147                 126          149.500000  \n",
       "8                 126                 148          144.000000  \n",
       "9                 148                <NA>          140.333333  "
      ]
     },
     "execution_count": 14,
     "metadata": {},
     "output_type": "execute_result"
    }
   ],
   "source": [
    "%%sql\n",
    "select\n",
    "  numero_de_cliente\n",
    "  , foto_mes\n",
    "  , ctrx_quarter\n",
    "  , lag(ctrx_quarter, 1) over (partition by numero_de_cliente order by foto_mes) as lag_1_ctrx_quarter\n",
    "  , lag(ctrx_quarter, 2) over (partition by numero_de_cliente order by foto_mes) as lag_2_ctrx_quarter\n",
    "  , lag(ctrx_quarter, 3) over (partition by numero_de_cliente order by foto_mes) as lag_3_ctrx_quarter\n",
    "  , avg(ctrx_quarter) over (partition by numero_de_cliente\n",
    "                            order by foto_mes\n",
    "                            rows between 3 preceding and current row) as avg_3_ctrx_quarter\n",
    "from competencia_01\n",
    "order by numero_de_cliente, foto_mes desc\n",
    "limit 10\n"
   ]
  },
  {
   "cell_type": "markdown",
   "metadata": {
    "id": "_dRgwDh-Mml8"
   },
   "source": [
    "Si embargo puede resultar incómodo escribir constantemente el over partition sobre todo si se buscan aplicar muchas veces para distintas funciones. Para reducir el código se puede usar la siguiente sintaxis\n",
    "\n"
   ]
  },
  {
   "cell_type": "code",
   "execution_count": 15,
   "metadata": {
    "colab": {
     "base_uri": "https://localhost:8080/",
     "height": 363
    },
    "executionInfo": {
     "elapsed": 589,
     "status": "ok",
     "timestamp": 1756847961579,
     "user": {
      "displayName": "Alejandro Bolaños",
      "userId": "15513030842131101305"
     },
     "user_tz": 180
    },
    "id": "-w7q2f9DMkqy",
    "outputId": "701a8f33-1b63-4a94-b395-1403676cd66c"
   },
   "outputs": [
    {
     "data": {
      "text/html": [
       "<div>\n",
       "<style scoped>\n",
       "    .dataframe tbody tr th:only-of-type {\n",
       "        vertical-align: middle;\n",
       "    }\n",
       "\n",
       "    .dataframe tbody tr th {\n",
       "        vertical-align: top;\n",
       "    }\n",
       "\n",
       "    .dataframe thead th {\n",
       "        text-align: right;\n",
       "    }\n",
       "</style>\n",
       "<table border=\"1\" class=\"dataframe\">\n",
       "  <thead>\n",
       "    <tr style=\"text-align: right;\">\n",
       "      <th></th>\n",
       "      <th>numero_de_cliente</th>\n",
       "      <th>foto_mes</th>\n",
       "      <th>ctrx_quarter</th>\n",
       "      <th>ctrx_quarter_media_3</th>\n",
       "      <th>ctrx_quarter_max_3</th>\n",
       "      <th>ctrx_quarter_min_3</th>\n",
       "    </tr>\n",
       "  </thead>\n",
       "  <tbody>\n",
       "    <tr>\n",
       "      <th>0</th>\n",
       "      <td>249371844</td>\n",
       "      <td>202101</td>\n",
       "      <td>44</td>\n",
       "      <td>44.000000</td>\n",
       "      <td>44</td>\n",
       "      <td>44</td>\n",
       "    </tr>\n",
       "    <tr>\n",
       "      <th>1</th>\n",
       "      <td>249371844</td>\n",
       "      <td>202102</td>\n",
       "      <td>48</td>\n",
       "      <td>46.000000</td>\n",
       "      <td>48</td>\n",
       "      <td>44</td>\n",
       "    </tr>\n",
       "    <tr>\n",
       "      <th>2</th>\n",
       "      <td>249371844</td>\n",
       "      <td>202103</td>\n",
       "      <td>58</td>\n",
       "      <td>50.000000</td>\n",
       "      <td>58</td>\n",
       "      <td>44</td>\n",
       "    </tr>\n",
       "    <tr>\n",
       "      <th>3</th>\n",
       "      <td>249371844</td>\n",
       "      <td>202104</td>\n",
       "      <td>60</td>\n",
       "      <td>52.500000</td>\n",
       "      <td>60</td>\n",
       "      <td>44</td>\n",
       "    </tr>\n",
       "    <tr>\n",
       "      <th>4</th>\n",
       "      <td>249371844</td>\n",
       "      <td>202105</td>\n",
       "      <td>59</td>\n",
       "      <td>56.250000</td>\n",
       "      <td>60</td>\n",
       "      <td>48</td>\n",
       "    </tr>\n",
       "    <tr>\n",
       "      <th>5</th>\n",
       "      <td>249371844</td>\n",
       "      <td>202106</td>\n",
       "      <td>55</td>\n",
       "      <td>58.000000</td>\n",
       "      <td>60</td>\n",
       "      <td>55</td>\n",
       "    </tr>\n",
       "    <tr>\n",
       "      <th>6</th>\n",
       "      <td>249388625</td>\n",
       "      <td>202101</td>\n",
       "      <td>179</td>\n",
       "      <td>179.000000</td>\n",
       "      <td>179</td>\n",
       "      <td>179</td>\n",
       "    </tr>\n",
       "    <tr>\n",
       "      <th>7</th>\n",
       "      <td>249388625</td>\n",
       "      <td>202102</td>\n",
       "      <td>207</td>\n",
       "      <td>193.000000</td>\n",
       "      <td>207</td>\n",
       "      <td>179</td>\n",
       "    </tr>\n",
       "    <tr>\n",
       "      <th>8</th>\n",
       "      <td>249388625</td>\n",
       "      <td>202103</td>\n",
       "      <td>207</td>\n",
       "      <td>197.666667</td>\n",
       "      <td>207</td>\n",
       "      <td>179</td>\n",
       "    </tr>\n",
       "    <tr>\n",
       "      <th>9</th>\n",
       "      <td>249388625</td>\n",
       "      <td>202104</td>\n",
       "      <td>234</td>\n",
       "      <td>206.750000</td>\n",
       "      <td>234</td>\n",
       "      <td>179</td>\n",
       "    </tr>\n",
       "  </tbody>\n",
       "</table>\n",
       "</div>"
      ],
      "text/plain": [
       "   numero_de_cliente  foto_mes  ctrx_quarter  ctrx_quarter_media_3  \\\n",
       "0          249371844    202101            44             44.000000   \n",
       "1          249371844    202102            48             46.000000   \n",
       "2          249371844    202103            58             50.000000   \n",
       "3          249371844    202104            60             52.500000   \n",
       "4          249371844    202105            59             56.250000   \n",
       "5          249371844    202106            55             58.000000   \n",
       "6          249388625    202101           179            179.000000   \n",
       "7          249388625    202102           207            193.000000   \n",
       "8          249388625    202103           207            197.666667   \n",
       "9          249388625    202104           234            206.750000   \n",
       "\n",
       "   ctrx_quarter_max_3  ctrx_quarter_min_3  \n",
       "0                  44                  44  \n",
       "1                  48                  44  \n",
       "2                  58                  44  \n",
       "3                  60                  44  \n",
       "4                  60                  48  \n",
       "5                  60                  55  \n",
       "6                 179                 179  \n",
       "7                 207                 179  \n",
       "8                 207                 179  \n",
       "9                 234                 179  "
      ]
     },
     "execution_count": 15,
     "metadata": {},
     "output_type": "execute_result"
    }
   ],
   "source": [
    "%%sql\n",
    "select\n",
    "  numero_de_cliente\n",
    "  , foto_mes\n",
    "  , ctrx_quarter\n",
    "  , avg(ctrx_quarter) over ventana_3 as ctrx_quarter_media_3\n",
    "  , max(ctrx_quarter) over ventana_3 as ctrx_quarter_max_3\n",
    "  , min(ctrx_quarter) over ventana_3 as ctrx_quarter_min_3\n",
    "from competencia_01\n",
    "window ventana_3 as (partition by numero_de_cliente order by foto_mes rows between 3 preceding and current row)\n",
    "limit 10\n"
   ]
  },
  {
   "cell_type": "markdown",
   "metadata": {
    "id": "t1cd9CbqMzNy"
   },
   "source": [
    "Para saber más que funciones tenemos disponibles, recomiendo ver los siguientes links:\n",
    "\n",
    "https://duckdb.org/docs/archive/0.8.1/sql/window_functions\n",
    "https://duckdb.org/docs/archive/0.8.1/sql/aggregates\n",
    "Un caso más, que ni me voy a molestar en explicar que significa...\n"
   ]
  },
  {
   "cell_type": "code",
   "execution_count": 16,
   "metadata": {
    "colab": {
     "base_uri": "https://localhost:8080/",
     "height": 363
    },
    "executionInfo": {
     "elapsed": 738,
     "status": "ok",
     "timestamp": 1756847969258,
     "user": {
      "displayName": "Alejandro Bolaños",
      "userId": "15513030842131101305"
     },
     "user_tz": 180
    },
    "id": "8_y8BipcM18A",
    "outputId": "7814f1ca-feac-4600-86c2-adca321b22bf"
   },
   "outputs": [
    {
     "data": {
      "text/html": [
       "<div>\n",
       "<style scoped>\n",
       "    .dataframe tbody tr th:only-of-type {\n",
       "        vertical-align: middle;\n",
       "    }\n",
       "\n",
       "    .dataframe tbody tr th {\n",
       "        vertical-align: top;\n",
       "    }\n",
       "\n",
       "    .dataframe thead th {\n",
       "        text-align: right;\n",
       "    }\n",
       "</style>\n",
       "<table border=\"1\" class=\"dataframe\">\n",
       "  <thead>\n",
       "    <tr style=\"text-align: right;\">\n",
       "      <th></th>\n",
       "      <th>numero_de_cliente</th>\n",
       "      <th>foto_mes</th>\n",
       "      <th>ctrx_quarter</th>\n",
       "      <th>ctrx_quarter_slope_3</th>\n",
       "    </tr>\n",
       "  </thead>\n",
       "  <tbody>\n",
       "    <tr>\n",
       "      <th>0</th>\n",
       "      <td>249274782</td>\n",
       "      <td>202101</td>\n",
       "      <td>115</td>\n",
       "      <td>NaN</td>\n",
       "    </tr>\n",
       "    <tr>\n",
       "      <th>1</th>\n",
       "      <td>249274782</td>\n",
       "      <td>202102</td>\n",
       "      <td>113</td>\n",
       "      <td>-2.0</td>\n",
       "    </tr>\n",
       "    <tr>\n",
       "      <th>2</th>\n",
       "      <td>249274782</td>\n",
       "      <td>202103</td>\n",
       "      <td>188</td>\n",
       "      <td>36.5</td>\n",
       "    </tr>\n",
       "    <tr>\n",
       "      <th>3</th>\n",
       "      <td>249274782</td>\n",
       "      <td>202104</td>\n",
       "      <td>211</td>\n",
       "      <td>36.3</td>\n",
       "    </tr>\n",
       "    <tr>\n",
       "      <th>4</th>\n",
       "      <td>249274782</td>\n",
       "      <td>202105</td>\n",
       "      <td>237</td>\n",
       "      <td>39.5</td>\n",
       "    </tr>\n",
       "    <tr>\n",
       "      <th>5</th>\n",
       "      <td>249274782</td>\n",
       "      <td>202106</td>\n",
       "      <td>188</td>\n",
       "      <td>2.6</td>\n",
       "    </tr>\n",
       "    <tr>\n",
       "      <th>6</th>\n",
       "      <td>249303228</td>\n",
       "      <td>202101</td>\n",
       "      <td>72</td>\n",
       "      <td>NaN</td>\n",
       "    </tr>\n",
       "    <tr>\n",
       "      <th>7</th>\n",
       "      <td>249303228</td>\n",
       "      <td>202102</td>\n",
       "      <td>73</td>\n",
       "      <td>1.0</td>\n",
       "    </tr>\n",
       "    <tr>\n",
       "      <th>8</th>\n",
       "      <td>249303228</td>\n",
       "      <td>202103</td>\n",
       "      <td>80</td>\n",
       "      <td>4.0</td>\n",
       "    </tr>\n",
       "    <tr>\n",
       "      <th>9</th>\n",
       "      <td>249303228</td>\n",
       "      <td>202104</td>\n",
       "      <td>77</td>\n",
       "      <td>2.2</td>\n",
       "    </tr>\n",
       "  </tbody>\n",
       "</table>\n",
       "</div>"
      ],
      "text/plain": [
       "   numero_de_cliente  foto_mes  ctrx_quarter  ctrx_quarter_slope_3\n",
       "0          249274782    202101           115                   NaN\n",
       "1          249274782    202102           113                  -2.0\n",
       "2          249274782    202103           188                  36.5\n",
       "3          249274782    202104           211                  36.3\n",
       "4          249274782    202105           237                  39.5\n",
       "5          249274782    202106           188                   2.6\n",
       "6          249303228    202101            72                   NaN\n",
       "7          249303228    202102            73                   1.0\n",
       "8          249303228    202103            80                   4.0\n",
       "9          249303228    202104            77                   2.2"
      ]
     },
     "execution_count": 16,
     "metadata": {},
     "output_type": "execute_result"
    }
   ],
   "source": [
    "%%sql\n",
    "select\n",
    "  numero_de_cliente\n",
    "  , foto_mes\n",
    "  , ctrx_quarter\n",
    "  ,regr_slope(ctrx_quarter, cliente_antiguedad) over ventana_3 as ctrx_quarter_slope_3\n",
    "from competencia_01\n",
    "window ventana_3 as (partition by numero_de_cliente order by foto_mes rows between 3 preceding and current row)\n",
    "limit 10\n"
   ]
  },
  {
   "cell_type": "markdown",
   "metadata": {
    "id": "RbJ3KvPONDaM"
   },
   "source": [
    "... Alguno dirá \"tenemos que escribir todo esto a mano? Son muchas variables!\". Bueno no, use los conocimientos de programación para que la computadora trabaje para usted. Si tenemos una lista de campos\n"
   ]
  },
  {
   "cell_type": "code",
   "execution_count": 17,
   "metadata": {
    "executionInfo": {
     "elapsed": 36,
     "status": "ok",
     "timestamp": 1756847992759,
     "user": {
      "displayName": "Alejandro Bolaños",
      "userId": "15513030842131101305"
     },
     "user_tz": 180
    },
    "id": "h1IVd_8wNJnY"
   },
   "outputs": [],
   "source": [
    "campos = ['active_quarter', 'cliente_vip', 'internet', 'cliente_edad', 'cliente_antiguedad', 'mrentabilidad']\n",
    "\n"
   ]
  },
  {
   "cell_type": "markdown",
   "metadata": {
    "id": "TgxdmjPcPiT5"
   },
   "source": [
    "Podemos hacer un script muy sencillo que nos genere el texto que hay que poner en una query para generar esas variables\n"
   ]
  },
  {
   "cell_type": "code",
   "execution_count": 18,
   "metadata": {
    "colab": {
     "base_uri": "https://localhost:8080/"
    },
    "executionInfo": {
     "elapsed": 6,
     "status": "ok",
     "timestamp": 1756847998329,
     "user": {
      "displayName": "Alejandro Bolaños",
      "userId": "15513030842131101305"
     },
     "user_tz": 180
    },
    "id": "FRj7or7LPk6i",
    "outputId": "95c5c65d-fc64-41cf-ce8e-49242ee38eb4"
   },
   "outputs": [
    {
     "name": "stdout",
     "output_type": "stream",
     "text": [
      "\n",
      ", regr_slope(active_quarter, cliente_antiguedad) over ventana_3 as ctrx_active_quarter_slope_3\n",
      ", regr_slope(cliente_vip, cliente_antiguedad) over ventana_3 as ctrx_cliente_vip_slope_3\n",
      ", regr_slope(internet, cliente_antiguedad) over ventana_3 as ctrx_internet_slope_3\n",
      ", regr_slope(cliente_edad, cliente_antiguedad) over ventana_3 as ctrx_cliente_edad_slope_3\n",
      ", regr_slope(cliente_antiguedad, cliente_antiguedad) over ventana_3 as ctrx_cliente_antiguedad_slope_3\n",
      ", regr_slope(mrentabilidad, cliente_antiguedad) over ventana_3 as ctrx_mrentabilidad_slope_3\n"
     ]
    }
   ],
   "source": [
    "nuevos_features = \"\"\n",
    "for campo in campos:\n",
    "  nuevos_features += f\"\\n, regr_slope({campo}, cliente_antiguedad) over ventana_3 as ctrx_{campo}_slope_3\"\n",
    "print(nuevos_features)"
   ]
  },
  {
   "cell_type": "code",
   "execution_count": 19,
   "metadata": {},
   "outputs": [
    {
     "data": {
      "text/html": [
       "<div>\n",
       "<style scoped>\n",
       "    .dataframe tbody tr th:only-of-type {\n",
       "        vertical-align: middle;\n",
       "    }\n",
       "\n",
       "    .dataframe tbody tr th {\n",
       "        vertical-align: top;\n",
       "    }\n",
       "\n",
       "    .dataframe thead th {\n",
       "        text-align: right;\n",
       "    }\n",
       "</style>\n",
       "<table border=\"1\" class=\"dataframe\">\n",
       "  <thead>\n",
       "    <tr style=\"text-align: right;\">\n",
       "      <th></th>\n",
       "      <th>numero_de_cliente</th>\n",
       "      <th>foto_mes</th>\n",
       "      <th>ctrx_quarter</th>\n",
       "      <th>lag_1_ctrx_quarter</th>\n",
       "      <th>delta_1_ctrx_quarter</th>\n",
       "      <th>lag_2_ctrx_quarter</th>\n",
       "    </tr>\n",
       "  </thead>\n",
       "  <tbody>\n",
       "    <tr>\n",
       "      <th>0</th>\n",
       "      <td>479391610</td>\n",
       "      <td>202102</td>\n",
       "      <td>7</td>\n",
       "      <td>10</td>\n",
       "      <td>-3</td>\n",
       "      <td>&lt;NA&gt;</td>\n",
       "    </tr>\n",
       "    <tr>\n",
       "      <th>1</th>\n",
       "      <td>479391610</td>\n",
       "      <td>202103</td>\n",
       "      <td>6</td>\n",
       "      <td>7</td>\n",
       "      <td>-1</td>\n",
       "      <td>-4</td>\n",
       "    </tr>\n",
       "    <tr>\n",
       "      <th>2</th>\n",
       "      <td>479391610</td>\n",
       "      <td>202104</td>\n",
       "      <td>2</td>\n",
       "      <td>6</td>\n",
       "      <td>-4</td>\n",
       "      <td>-5</td>\n",
       "    </tr>\n",
       "    <tr>\n",
       "      <th>3</th>\n",
       "      <td>479391610</td>\n",
       "      <td>202105</td>\n",
       "      <td>3</td>\n",
       "      <td>2</td>\n",
       "      <td>1</td>\n",
       "      <td>-3</td>\n",
       "    </tr>\n",
       "    <tr>\n",
       "      <th>4</th>\n",
       "      <td>479391610</td>\n",
       "      <td>202106</td>\n",
       "      <td>2</td>\n",
       "      <td>3</td>\n",
       "      <td>-1</td>\n",
       "      <td>0</td>\n",
       "    </tr>\n",
       "    <tr>\n",
       "      <th>5</th>\n",
       "      <td>479405760</td>\n",
       "      <td>202101</td>\n",
       "      <td>35</td>\n",
       "      <td>&lt;NA&gt;</td>\n",
       "      <td>&lt;NA&gt;</td>\n",
       "      <td>&lt;NA&gt;</td>\n",
       "    </tr>\n",
       "    <tr>\n",
       "      <th>6</th>\n",
       "      <td>479405760</td>\n",
       "      <td>202102</td>\n",
       "      <td>34</td>\n",
       "      <td>35</td>\n",
       "      <td>-1</td>\n",
       "      <td>&lt;NA&gt;</td>\n",
       "    </tr>\n",
       "    <tr>\n",
       "      <th>7</th>\n",
       "      <td>479405760</td>\n",
       "      <td>202103</td>\n",
       "      <td>30</td>\n",
       "      <td>34</td>\n",
       "      <td>-4</td>\n",
       "      <td>-5</td>\n",
       "    </tr>\n",
       "    <tr>\n",
       "      <th>8</th>\n",
       "      <td>479405760</td>\n",
       "      <td>202104</td>\n",
       "      <td>28</td>\n",
       "      <td>30</td>\n",
       "      <td>-2</td>\n",
       "      <td>-6</td>\n",
       "    </tr>\n",
       "    <tr>\n",
       "      <th>9</th>\n",
       "      <td>479405760</td>\n",
       "      <td>202105</td>\n",
       "      <td>24</td>\n",
       "      <td>28</td>\n",
       "      <td>-4</td>\n",
       "      <td>-6</td>\n",
       "    </tr>\n",
       "  </tbody>\n",
       "</table>\n",
       "</div>"
      ],
      "text/plain": [
       "   numero_de_cliente  foto_mes  ctrx_quarter  lag_1_ctrx_quarter  \\\n",
       "0          479391610    202102             7                  10   \n",
       "1          479391610    202103             6                   7   \n",
       "2          479391610    202104             2                   6   \n",
       "3          479391610    202105             3                   2   \n",
       "4          479391610    202106             2                   3   \n",
       "5          479405760    202101            35                <NA>   \n",
       "6          479405760    202102            34                  35   \n",
       "7          479405760    202103            30                  34   \n",
       "8          479405760    202104            28                  30   \n",
       "9          479405760    202105            24                  28   \n",
       "\n",
       "   delta_1_ctrx_quarter  lag_2_ctrx_quarter  \n",
       "0                    -3                <NA>  \n",
       "1                    -1                  -4  \n",
       "2                    -4                  -5  \n",
       "3                     1                  -3  \n",
       "4                    -1                   0  \n",
       "5                  <NA>                <NA>  \n",
       "6                    -1                <NA>  \n",
       "7                    -4                  -5  \n",
       "8                    -2                  -6  \n",
       "9                    -4                  -6  "
      ]
     },
     "execution_count": 19,
     "metadata": {},
     "output_type": "execute_result"
    }
   ],
   "source": [
    "%%sql\n",
    "select\n",
    "  numero_de_cliente\n",
    "  , foto_mes\n",
    "  , ctrx_quarter\n",
    "  , lag(ctrx_quarter, 1) over (partition by numero_de_cliente order by foto_mes) as lag_1_ctrx_quarter\n",
    "  , ctrx_quarter - lag_1_ctrx_quarter as delta_1_ctrx_quarter\n",
    "  , ctrx_quarter - lag(ctrx_quarter, 2) over (partition by numero_de_cliente order by foto_mes) as lag_2_ctrx_quarter\n",
    "from competencia_01\n",
    "limit 10"
   ]
  },
  {
   "cell_type": "code",
   "execution_count": 20,
   "metadata": {},
   "outputs": [
    {
     "name": "stdout",
     "output_type": "stream",
     "text": [
      "CPU times: total: 2.72 s\n",
      "Wall time: 1.13 s\n"
     ]
    },
    {
     "data": {
      "text/html": [
       "<div>\n",
       "<style scoped>\n",
       "    .dataframe tbody tr th:only-of-type {\n",
       "        vertical-align: middle;\n",
       "    }\n",
       "\n",
       "    .dataframe tbody tr th {\n",
       "        vertical-align: top;\n",
       "    }\n",
       "\n",
       "    .dataframe thead th {\n",
       "        text-align: right;\n",
       "    }\n",
       "</style>\n",
       "<table border=\"1\" class=\"dataframe\">\n",
       "  <thead>\n",
       "    <tr style=\"text-align: right;\">\n",
       "      <th></th>\n",
       "      <th>Success</th>\n",
       "    </tr>\n",
       "  </thead>\n",
       "  <tbody>\n",
       "  </tbody>\n",
       "</table>\n",
       "</div>"
      ],
      "text/plain": [
       "Empty DataFrame\n",
       "Columns: [Success]\n",
       "Index: []"
      ]
     },
     "execution_count": 20,
     "metadata": {},
     "output_type": "execute_result"
    }
   ],
   "source": [
    "%%time\n",
    "%%sql\n",
    "create or replace table competencia_01 as\n",
    "SELECT\n",
    "    * EXCLUDE(clase_ternaria),\n",
    "    (ctarjeta_debito_transacciones + ctarjeta_visa_transacciones + ctarjeta_master_transacciones) as ctarjeta_total_transacciones,\n",
    "    (ctarjeta_visa_transacciones + ctarjeta_master_transacciones) as ctarjeta_credito_transacciones,\n",
    "    if(cpayroll_trx > 0 , 1, 0) as cpayroll,\n",
    "    (mcaja_ahorro + mcaja_ahorro_adicional + mcaja_ahorro_dolares) as mcaja_ahorro_total,\n",
    "    (mtarjeta_visa_consumo + mtarjeta_master_consumo) as mtarjeta_credito_consumo,\n",
    "    (mplazo_fijo_pesos + mplazo_fijo_dolares) as mplazo_fijo_total,\n",
    "    (Visa_mlimitecompra + Master_mlimitecompra) as Credito_mlimitecompra,\n",
    "    clase_ternaria\n",
    "FROM competencia_01"
   ]
  },
  {
   "cell_type": "code",
   "execution_count": 21,
   "metadata": {},
   "outputs": [
    {
     "data": {
      "application/vnd.jupyter.widget-view+json": {
       "model_id": "44c79fd4ed524716863eec9165fc3474",
       "version_major": 2,
       "version_minor": 0
      },
      "text/plain": [
       "FloatProgress(value=0.0, layout=Layout(width='auto'), style=ProgressStyle(bar_color='black'))"
      ]
     },
     "metadata": {},
     "output_type": "display_data"
    },
    {
     "data": {
      "text/html": [
       "<div>\n",
       "<style scoped>\n",
       "    .dataframe tbody tr th:only-of-type {\n",
       "        vertical-align: middle;\n",
       "    }\n",
       "\n",
       "    .dataframe tbody tr th {\n",
       "        vertical-align: top;\n",
       "    }\n",
       "\n",
       "    .dataframe thead th {\n",
       "        text-align: right;\n",
       "    }\n",
       "</style>\n",
       "<table border=\"1\" class=\"dataframe\">\n",
       "  <thead>\n",
       "    <tr style=\"text-align: right;\">\n",
       "      <th></th>\n",
       "      <th>Success</th>\n",
       "    </tr>\n",
       "  </thead>\n",
       "  <tbody>\n",
       "  </tbody>\n",
       "</table>\n",
       "</div>"
      ],
      "text/plain": [
       "Empty DataFrame\n",
       "Columns: [Success]\n",
       "Index: []"
      ]
     },
     "execution_count": 21,
     "metadata": {},
     "output_type": "execute_result"
    }
   ],
   "source": [
    "%%sql\n",
    "COPY competencia_01 TO '{{dataset_path}}processed/competencia_01_fe.csv' (FORMAT CSV, HEADER);"
   ]
  },
  {
   "cell_type": "code",
   "execution_count": 22,
   "metadata": {},
   "outputs": [],
   "source": [
    "data = pd.read_csv(dataset_path + 'processed/competencia_01_fe.csv')"
   ]
  },
  {
   "cell_type": "code",
   "execution_count": 23,
   "metadata": {},
   "outputs": [],
   "source": [
    "exclude_columns = ['active_quarter', 'cliente_vip', 'internet', 'cliente_edad', 'tcuentas', 'cdescubierto_preacordado', 'ccaja_seguridad', 'tcallcenter', 'thomebanking', 'tmobile_app', 'Master_status', 'Visa_status']"
   ]
  },
  {
   "cell_type": "code",
   "execution_count": 24,
   "metadata": {},
   "outputs": [
    {
     "name": "stdout",
     "output_type": "stream",
     "text": [
      "['cliente_antiguedad', 'mrentabilidad', 'mrentabilidad_annual', 'mcomisiones', 'mactivos_margen', 'mpasivos_margen', 'cproductos', 'ccuenta_corriente', 'mcuenta_corriente_adicional', 'mcuenta_corriente', 'ccaja_ahorro', 'mcaja_ahorro', 'mcaja_ahorro_adicional', 'mcaja_ahorro_dolares', 'mcuentas_saldo', 'ctarjeta_debito', 'ctarjeta_debito_transacciones', 'mautoservicio', 'ctarjeta_visa', 'ctarjeta_visa_transacciones', 'mtarjeta_visa_consumo', 'ctarjeta_master', 'ctarjeta_master_transacciones', 'mtarjeta_master_consumo', 'cprestamos_personales', 'mprestamos_personales', 'cprestamos_prendarios', 'mprestamos_prendarios', 'cprestamos_hipotecarios', 'mprestamos_hipotecarios', 'cplazo_fijo', 'mplazo_fijo_dolares', 'mplazo_fijo_pesos', 'cinversion1', 'minversion1_pesos', 'minversion1_dolares', 'cinversion2', 'minversion2', 'cseguro_vida', 'cseguro_auto', 'cseguro_vivienda', 'cseguro_accidentes_personales', 'cpayroll_trx', 'mpayroll', 'mpayroll2', 'cpayroll2_trx', 'ccuenta_debitos_automaticos', 'mcuenta_debitos_automaticos', 'ctarjeta_visa_debitos_automaticos', 'mttarjeta_visa_debitos_automaticos', 'ctarjeta_master_debitos_automaticos', 'mttarjeta_master_debitos_automaticos', 'cpagodeservicios', 'mpagodeservicios', 'cpagomiscuentas', 'mpagomiscuentas', 'ccajeros_propios_descuentos', 'mcajeros_propios_descuentos', 'ctarjeta_visa_descuentos', 'mtarjeta_visa_descuentos', 'ctarjeta_master_descuentos', 'mtarjeta_master_descuentos', 'ccomisiones_mantenimiento', 'mcomisiones_mantenimiento', 'ccomisiones_otras', 'mcomisiones_otras', 'cforex', 'cforex_buy', 'mforex_buy', 'cforex_sell', 'mforex_sell', 'ctransferencias_recibidas', 'mtransferencias_recibidas', 'ctransferencias_emitidas', 'mtransferencias_emitidas', 'cextraccion_autoservicio', 'mextraccion_autoservicio', 'ccheques_depositados', 'mcheques_depositados', 'ccheques_emitidos', 'mcheques_emitidos', 'ccheques_depositados_rechazados', 'mcheques_depositados_rechazados', 'ccheques_emitidos_rechazados', 'mcheques_emitidos_rechazados', 'ccallcenter_transacciones', 'chomebanking_transacciones', 'ccajas_transacciones', 'ccajas_consultas', 'ccajas_depositos', 'ccajas_extracciones', 'ccajas_otras', 'catm_trx', 'matm', 'catm_trx_other', 'matm_other', 'ctrx_quarter', 'cmobile_app_trx', 'Master_delinquency', 'Master_mfinanciacion_limite', 'Master_Fvencimiento', 'Master_Finiciomora', 'Master_msaldototal', 'Master_msaldopesos', 'Master_msaldodolares', 'Master_mconsumospesos', 'Master_mconsumosdolares', 'Master_mlimitecompra', 'Master_madelantopesos', 'Master_madelantodolares', 'Master_fultimo_cierre', 'Master_mpagado', 'Master_mpagospesos', 'Master_mpagosdolares', 'Master_fechaalta', 'Master_mconsumototal', 'Master_cconsumos', 'Master_cadelantosefectivo', 'Master_mpagominimo', 'Visa_delinquency', 'Visa_mfinanciacion_limite', 'Visa_Fvencimiento', 'Visa_Finiciomora', 'Visa_msaldototal', 'Visa_msaldopesos', 'Visa_msaldodolares', 'Visa_mconsumospesos', 'Visa_mconsumosdolares', 'Visa_mlimitecompra', 'Visa_madelantopesos', 'Visa_madelantodolares', 'Visa_fultimo_cierre', 'Visa_mpagado', 'Visa_mpagospesos', 'Visa_mpagosdolares', 'Visa_fechaalta', 'Visa_mconsumototal', 'Visa_cconsumos', 'Visa_cadelantosefectivo', 'Visa_mpagominimo', 'ctarjeta_total_transacciones', 'ctarjeta_credito_transacciones', 'cpayroll', 'mcaja_ahorro_total', 'mtarjeta_credito_consumo', 'mplazo_fijo_total', 'Credito_mlimitecompra']\n"
     ]
    }
   ],
   "source": [
    "campos_data = list(data)[2:-1]\n",
    "campos_data = [x for x in campos_data if x not in exclude_columns]\n",
    "print(campos_data)"
   ]
  },
  {
   "cell_type": "code",
   "execution_count": 25,
   "metadata": {},
   "outputs": [],
   "source": [
    "nuevos_features = \"\"\n",
    "for campo in campos_data:\n",
    "    nuevos_features += f\"\\n, lag({campo},1) over ventana_1 as {campo}_lag_1\"\n",
    "    nuevos_features += f\"\\n, lag({campo},2) over ventana_1 as {campo}_lag_2\"\n",
    "    nuevos_features += f\"\\n, lag({campo},3) over ventana_1 as {campo}_lag_3\"\n",
    "    nuevos_features += f\"\\n, ifnull({campo},0) - ifnull({campo}_lag_1,0) as {campo}_delta_1\"\n",
    "    nuevos_features += f\"\\n, avg({campo}) over ventana_3 as {campo}_avg_3\"\n",
    "    nuevos_features += f\"\\n, max({campo}) over ventana_3 as {campo}_max_3\"\n",
    "    nuevos_features += f\"\\n, min({campo}) over ventana_3 as {campo}_min_3\"\n",
    "    nuevos_features += f\"\\n, regr_slope({campo}, cliente_antiguedad) over ventana_3 as {campo}_slope_3\""
   ]
  },
  {
   "cell_type": "code",
   "execution_count": 26,
   "metadata": {},
   "outputs": [
    {
     "data": {
      "application/vnd.jupyter.widget-view+json": {
       "model_id": "6103c27336ce42b89e073ca80f8dee96",
       "version_major": 2,
       "version_minor": 0
      },
      "text/plain": [
       "FloatProgress(value=0.0, layout=Layout(width='auto'), style=ProgressStyle(bar_color='black'))"
      ]
     },
     "metadata": {},
     "output_type": "display_data"
    },
    {
     "data": {
      "application/vnd.jupyter.widget-view+json": {
       "model_id": "e23bea2ce2c142e88ec36ffefa081718",
       "version_major": 2,
       "version_minor": 0
      },
      "text/plain": [
       "FloatProgress(value=0.0, layout=Layout(width='auto'), style=ProgressStyle(bar_color='black'))"
      ]
     },
     "metadata": {},
     "output_type": "display_data"
    },
    {
     "name": "stdout",
     "output_type": "stream",
     "text": [
      "CPU times: total: 6min 27s\n",
      "Wall time: 3min 43s\n"
     ]
    },
    {
     "data": {
      "text/html": [
       "<div>\n",
       "<style scoped>\n",
       "    .dataframe tbody tr th:only-of-type {\n",
       "        vertical-align: middle;\n",
       "    }\n",
       "\n",
       "    .dataframe tbody tr th {\n",
       "        vertical-align: top;\n",
       "    }\n",
       "\n",
       "    .dataframe thead th {\n",
       "        text-align: right;\n",
       "    }\n",
       "</style>\n",
       "<table border=\"1\" class=\"dataframe\">\n",
       "  <thead>\n",
       "    <tr style=\"text-align: right;\">\n",
       "      <th></th>\n",
       "      <th>Success</th>\n",
       "    </tr>\n",
       "  </thead>\n",
       "  <tbody>\n",
       "  </tbody>\n",
       "</table>\n",
       "</div>"
      ],
      "text/plain": [
       "Empty DataFrame\n",
       "Columns: [Success]\n",
       "Index: []"
      ]
     },
     "execution_count": 26,
     "metadata": {},
     "output_type": "execute_result"
    }
   ],
   "source": [
    "%%time\n",
    "%%sql\n",
    "create or replace table competencia_01_fe as\n",
    "SELECT\n",
    "    *\n",
    "    {{nuevos_features}}\n",
    "FROM competencia_01\n",
    "window \n",
    "    ventana_1 as (partition by numero_de_cliente order by foto_mes),\n",
    "    ventana_3 as (partition by numero_de_cliente order by foto_mes rows between 3 preceding and current row);"
   ]
  },
  {
   "cell_type": "markdown",
   "metadata": {
    "id": "K1UYXVfrRYd7"
   },
   "source": []
  },
  {
   "cell_type": "markdown",
   "metadata": {
    "id": "uViiql3Kp4jr"
   },
   "source": [
    "\n",
    "\n",
    "\n",
    "Con la salida de esa celda, arme la query agregando las nuevas líneas y la ejecuta.\n",
    "\n",
    "Lo que acabamos de hacer de manera muy simple es como \"funcionan\" sistemas como **dbt** que están tan de moda en el mundo de los datos.\n",
    "\n",
    "La última reflexión, la creación de nuevas features es un proceso computacionalmente rápido pero intenso. Si ejecutó lo anterior pudo haber visto que en poco minutos tenía sus nuevas variables. Pero, también pudo haberle fallado por temas de recursos. Miles de variables necesitan los recursos adecuados. Use la nube, una máquina grande, al menos que sepa bien como optimizar las queries.\n"
   ]
  },
  {
   "cell_type": "markdown",
   "metadata": {
    "id": "8kpwYKQzRaU7"
   },
   "source": [
    "Y a no olvidarse guardar las nueva tabla"
   ]
  },
  {
   "cell_type": "code",
   "execution_count": 27,
   "metadata": {
    "id": "pTQNkXCxRQc5"
   },
   "outputs": [
    {
     "data": {
      "application/vnd.jupyter.widget-view+json": {
       "model_id": "a87f7f5bb5914414adc566a6f020a3b0",
       "version_major": 2,
       "version_minor": 0
      },
      "text/plain": [
       "FloatProgress(value=0.0, layout=Layout(width='auto'), style=ProgressStyle(bar_color='black'))"
      ]
     },
     "metadata": {},
     "output_type": "display_data"
    },
    {
     "data": {
      "text/html": [
       "<div>\n",
       "<style scoped>\n",
       "    .dataframe tbody tr th:only-of-type {\n",
       "        vertical-align: middle;\n",
       "    }\n",
       "\n",
       "    .dataframe tbody tr th {\n",
       "        vertical-align: top;\n",
       "    }\n",
       "\n",
       "    .dataframe thead th {\n",
       "        text-align: right;\n",
       "    }\n",
       "</style>\n",
       "<table border=\"1\" class=\"dataframe\">\n",
       "  <thead>\n",
       "    <tr style=\"text-align: right;\">\n",
       "      <th></th>\n",
       "      <th>Success</th>\n",
       "    </tr>\n",
       "  </thead>\n",
       "  <tbody>\n",
       "  </tbody>\n",
       "</table>\n",
       "</div>"
      ],
      "text/plain": [
       "Empty DataFrame\n",
       "Columns: [Success]\n",
       "Index: []"
      ]
     },
     "execution_count": 27,
     "metadata": {},
     "output_type": "execute_result"
    }
   ],
   "source": [
    "%%sql\n",
    "COPY competencia_01_fe TO '{{dataset_path}}processed/competencia_01_fe.csv' (FORMAT CSV, HEADER);"
   ]
  }
 ],
 "metadata": {
  "colab": {
   "authorship_tag": "ABX9TyOrr1gmuTpdsmnrIF4V7UP8",
   "mount_file_id": "114JJwqGN5DdisFvxLOF9e09Evl78-2IQ",
   "provenance": []
  },
  "kernelspec": {
   "display_name": "envdm",
   "language": "python",
   "name": "python3"
  },
  "language_info": {
   "codemirror_mode": {
    "name": "ipython",
    "version": 3
   },
   "file_extension": ".py",
   "mimetype": "text/x-python",
   "name": "python",
   "nbconvert_exporter": "python",
   "pygments_lexer": "ipython3",
   "version": "3.11.0"
  },
  "widgets": {
   "application/vnd.jupyter.widget-state+json": {
    "bd86fc68727243e8899e967370282359": {
     "model_module": "@jupyter-widgets/base",
     "model_module_version": "1.2.0",
     "model_name": "LayoutModel",
     "state": {
      "_model_module": "@jupyter-widgets/base",
      "_model_module_version": "1.2.0",
      "_model_name": "LayoutModel",
      "_view_count": null,
      "_view_module": "@jupyter-widgets/base",
      "_view_module_version": "1.2.0",
      "_view_name": "LayoutView",
      "align_content": null,
      "align_items": null,
      "align_self": null,
      "border": null,
      "bottom": null,
      "display": null,
      "flex": null,
      "flex_flow": null,
      "grid_area": null,
      "grid_auto_columns": null,
      "grid_auto_flow": null,
      "grid_auto_rows": null,
      "grid_column": null,
      "grid_gap": null,
      "grid_row": null,
      "grid_template_areas": null,
      "grid_template_columns": null,
      "grid_template_rows": null,
      "height": null,
      "justify_content": null,
      "justify_items": null,
      "left": null,
      "margin": null,
      "max_height": null,
      "max_width": null,
      "min_height": null,
      "min_width": null,
      "object_fit": null,
      "object_position": null,
      "order": null,
      "overflow": null,
      "overflow_x": null,
      "overflow_y": null,
      "padding": null,
      "right": null,
      "top": null,
      "visibility": null,
      "width": "auto"
     }
    },
    "cb2587b6a62044359b708ff0cff456f2": {
     "model_module": "@jupyter-widgets/controls",
     "model_module_version": "1.5.0",
     "model_name": "FloatProgressModel",
     "state": {
      "_dom_classes": [],
      "_model_module": "@jupyter-widgets/controls",
      "_model_module_version": "1.5.0",
      "_model_name": "FloatProgressModel",
      "_view_count": null,
      "_view_module": "@jupyter-widgets/controls",
      "_view_module_version": "1.5.0",
      "_view_name": "ProgressView",
      "bar_style": "",
      "description": "",
      "description_tooltip": null,
      "layout": "IPY_MODEL_bd86fc68727243e8899e967370282359",
      "max": 100,
      "min": 0,
      "orientation": "horizontal",
      "style": "IPY_MODEL_e9aedf07ee9b46a09d29ed2df7776c53",
      "value": 100
     }
    },
    "e9aedf07ee9b46a09d29ed2df7776c53": {
     "model_module": "@jupyter-widgets/controls",
     "model_module_version": "1.5.0",
     "model_name": "ProgressStyleModel",
     "state": {
      "_model_module": "@jupyter-widgets/controls",
      "_model_module_version": "1.5.0",
      "_model_name": "ProgressStyleModel",
      "_view_count": null,
      "_view_module": "@jupyter-widgets/base",
      "_view_module_version": "1.2.0",
      "_view_name": "StyleView",
      "bar_color": "black",
      "description_width": ""
     }
    }
   }
  }
 },
 "nbformat": 4,
 "nbformat_minor": 0
}
