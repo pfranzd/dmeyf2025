{
 "cells": [
  {
   "cell_type": "markdown",
   "metadata": {
    "id": "g2aDdB5-REu5"
   },
   "source": [
    "# SQL con clase\n",
    "\n",
    "*The single biggest challenge to learning SQL programming is unlearning procedureal programming.*\n",
    "-- Joe Celko\n",
    "\n",
    "En este notebook, exploraremos diversos estilos y prácticas para escribir consultas SQL enfocadas en el análisis de datos. Las consultas analíticas se distinguen de las consultas convencionales en que están diseñadas específicamente para trabajar sobre grandes volúmenes de datos y tienen a ser más complejas.\n",
    "\n",
    "## Setup\n",
    "\n",
    "Primero vamos a configurar la notebook y definir las variables principales.\n",
    "\n",
    "Instalamos los paquetes necesarios. Este paso se puede omitir si ya lo realizó en su entorno, sin embargo si usa **Colab** va a ser necesario ejecutarlo."
   ]
  },
  {
   "cell_type": "code",
   "execution_count": null,
   "metadata": {
    "id": "sid-iWOhbUeA"
   },
   "outputs": [],
   "source": [
    "# %%bash\n",
    "# pip install duckdb\n",
    "# pip install jupysql\n",
    "# pip install duckdb-engine"
   ]
  },
  {
   "cell_type": "markdown",
   "metadata": {
    "id": "s2SMpCyLbX_v"
   },
   "source": [
    "Configuracion la extensión de %sql para el notebook, lo que nos va a permitir usar lenguaje SQL directamente sobre una celda"
   ]
  },
  {
   "cell_type": "code",
   "execution_count": 1,
   "metadata": {
    "id": "pUwxrZpMb2w4"
   },
   "outputs": [],
   "source": [
    "import duckdb\n",
    "import pandas as pd\n",
    "\n",
    "%load_ext sql\n",
    "%config SqlMagic.autopandas = True\n",
    "%config SqlMagic.feedback = False\n",
    "%config SqlMagic.displaycon = False\n",
    "\n",
    "%sql duckdb://"
   ]
  },
  {
   "cell_type": "markdown",
   "metadata": {
    "id": "mKupAuNHhL4k"
   },
   "source": [
    "Y finalmente cargamos el dataset en la base de datos"
   ]
  },
  {
   "cell_type": "code",
   "execution_count": 2,
   "metadata": {
    "id": "lkj8JbKpcUmj"
   },
   "outputs": [],
   "source": [
    "dataset_path = 'C:/Users/pedro/Documents/DMEyF/dmeyf2025/data/raw/'\n",
    "dataset_file = 'competencia_01_crudo.csv'"
   ]
  },
  {
   "cell_type": "code",
   "execution_count": 3,
   "metadata": {
    "id": "wEE_AbHQg-wl"
   },
   "outputs": [
    {
     "data": {
      "text/html": [
       "<div>\n",
       "<style scoped>\n",
       "    .dataframe tbody tr th:only-of-type {\n",
       "        vertical-align: middle;\n",
       "    }\n",
       "\n",
       "    .dataframe tbody tr th {\n",
       "        vertical-align: top;\n",
       "    }\n",
       "\n",
       "    .dataframe thead th {\n",
       "        text-align: right;\n",
       "    }\n",
       "</style>\n",
       "<table border=\"1\" class=\"dataframe\">\n",
       "  <thead>\n",
       "    <tr style=\"text-align: right;\">\n",
       "      <th></th>\n",
       "      <th>Success</th>\n",
       "    </tr>\n",
       "  </thead>\n",
       "  <tbody>\n",
       "  </tbody>\n",
       "</table>\n",
       "</div>"
      ],
      "text/plain": [
       "Empty DataFrame\n",
       "Columns: [Success]\n",
       "Index: []"
      ]
     },
     "execution_count": 3,
     "metadata": {},
     "output_type": "execute_result"
    }
   ],
   "source": [
    "%%sql\n",
    "create or replace table competencia_01_crudo as\n",
    "select\n",
    "    *\n",
    "from read_csv_auto(\"{{dataset_path + dataset_file}}\")"
   ]
  },
  {
   "cell_type": "markdown",
   "metadata": {
    "id": "2tqxWFfUhS9y"
   },
   "source": [
    "## WITH\n",
    "\n"
   ]
  },
  {
   "cell_type": "markdown",
   "metadata": {
    "id": "RuVklMEWZJKt"
   },
   "source": [
    "Un escenario común es necesitar realizar una consulta a no a una tabla, sino a otra consulta. Una forma tradicional de hacerlo es usando es:\n",
    "* Creando una tabla temporal con esa consulta\n",
    "* Usando `selects from select`.\n",
    "\n",
    "Esta necesidad es muy común, pero como todo en la vida hay peros.\n",
    "- Crear una tabla en una base de datos que va a ser usada UNA SOLA VEZ ensucia los esquemas con un montón de tablas que no son útiles y además del desorden ocupan espacio innecesario\n",
    "- El `select from select`, debe ser de las cosas peor vistas por los administradores de BBDD. Tienen sus razones técnicas, en general la recomendación es no usarlo a menos que uno conozca bien como funciona la base de datos por dentro, ya que hay casos donde terminan ocasionando muchos problemas\n",
    "\n",
    "Y que hacer? bueno hay una clausula en **SQL** llamada `WITH`, que nos permite crear esas (plural) tablas para ser usadas en la **query** principal. Ejemplo si queremos comparar el valor de una variable con su promedio a través de todos los meses.\n"
   ]
  },
  {
   "cell_type": "code",
   "execution_count": 5,
   "metadata": {
    "id": "pLS_xUUdjzc5"
   },
   "outputs": [
    {
     "data": {
      "text/html": [
       "<div>\n",
       "<style scoped>\n",
       "    .dataframe tbody tr th:only-of-type {\n",
       "        vertical-align: middle;\n",
       "    }\n",
       "\n",
       "    .dataframe tbody tr th {\n",
       "        vertical-align: top;\n",
       "    }\n",
       "\n",
       "    .dataframe thead th {\n",
       "        text-align: right;\n",
       "    }\n",
       "</style>\n",
       "<table border=\"1\" class=\"dataframe\">\n",
       "  <thead>\n",
       "    <tr style=\"text-align: right;\">\n",
       "      <th></th>\n",
       "      <th>numero_de_cliente</th>\n",
       "      <th>foto_mes</th>\n",
       "      <th>comparacion</th>\n",
       "    </tr>\n",
       "  </thead>\n",
       "  <tbody>\n",
       "    <tr>\n",
       "      <th>0</th>\n",
       "      <td>249221323</td>\n",
       "      <td>202101</td>\n",
       "      <td>menor</td>\n",
       "    </tr>\n",
       "    <tr>\n",
       "      <th>1</th>\n",
       "      <td>249227600</td>\n",
       "      <td>202101</td>\n",
       "      <td>menor</td>\n",
       "    </tr>\n",
       "    <tr>\n",
       "      <th>2</th>\n",
       "      <td>249234235</td>\n",
       "      <td>202101</td>\n",
       "      <td>menor</td>\n",
       "    </tr>\n",
       "    <tr>\n",
       "      <th>3</th>\n",
       "      <td>249244449</td>\n",
       "      <td>202101</td>\n",
       "      <td>mayor</td>\n",
       "    </tr>\n",
       "    <tr>\n",
       "      <th>4</th>\n",
       "      <td>249244739</td>\n",
       "      <td>202101</td>\n",
       "      <td>menor</td>\n",
       "    </tr>\n",
       "    <tr>\n",
       "      <th>...</th>\n",
       "      <td>...</td>\n",
       "      <td>...</td>\n",
       "      <td>...</td>\n",
       "    </tr>\n",
       "    <tr>\n",
       "      <th>978434</th>\n",
       "      <td>1002880597</td>\n",
       "      <td>202103</td>\n",
       "      <td>mayor</td>\n",
       "    </tr>\n",
       "    <tr>\n",
       "      <th>978435</th>\n",
       "      <td>1002911741</td>\n",
       "      <td>202103</td>\n",
       "      <td>menor</td>\n",
       "    </tr>\n",
       "    <tr>\n",
       "      <th>978436</th>\n",
       "      <td>1002920785</td>\n",
       "      <td>202103</td>\n",
       "      <td>mayor</td>\n",
       "    </tr>\n",
       "    <tr>\n",
       "      <th>978437</th>\n",
       "      <td>1002921365</td>\n",
       "      <td>202103</td>\n",
       "      <td>mayor</td>\n",
       "    </tr>\n",
       "    <tr>\n",
       "      <th>978438</th>\n",
       "      <td>1002922245</td>\n",
       "      <td>202103</td>\n",
       "      <td>menor</td>\n",
       "    </tr>\n",
       "  </tbody>\n",
       "</table>\n",
       "<p>978439 rows × 3 columns</p>\n",
       "</div>"
      ],
      "text/plain": [
       "        numero_de_cliente  foto_mes comparacion\n",
       "0               249221323    202101       menor\n",
       "1               249227600    202101       menor\n",
       "2               249234235    202101       menor\n",
       "3               249244449    202101       mayor\n",
       "4               249244739    202101       menor\n",
       "...                   ...       ...         ...\n",
       "978434         1002880597    202103       mayor\n",
       "978435         1002911741    202103       menor\n",
       "978436         1002920785    202103       mayor\n",
       "978437         1002921365    202103       mayor\n",
       "978438         1002922245    202103       menor\n",
       "\n",
       "[978439 rows x 3 columns]"
      ]
     },
     "execution_count": 5,
     "metadata": {},
     "output_type": "execute_result"
    }
   ],
   "source": [
    "%%sql\n",
    "with promedios as (\n",
    "    select\n",
    "        numero_de_cliente\n",
    "        , avg(mrentabilidad) as avg_mrentabilidad\n",
    "    from competencia_01_crudo\n",
    "    group by numero_de_cliente\n",
    ") select\n",
    "    cp.numero_de_cliente\n",
    "    , cp.foto_mes\n",
    "    , if(cp.mrentabilidad > p.avg_mrentabilidad, 'mayor', 'menor') as comparacion\n",
    "from competencia_01_crudo cp\n",
    "join promedios p using (numero_de_cliente)\n"
   ]
  },
  {
   "cell_type": "markdown",
   "metadata": {
    "id": "1aOQS6dXj2VV"
   },
   "source": [
    "- Usar esa clausula tiene muchos beneficios, entre ellos sumar legibilidad de código y le permite al motor de **SQL** optimizar mejor, ya que entiende todo lo que se buscar hacer y planifica como resolverlo en el menor tiempo posible.\n",
    "\n",
    "**NOTA**: Hay un tipo de tabla que se llaman temporales, que se borran solas una vez que uno se desconecta de la base de datos. Es una mejor alternativa frente al `CREATE`, sin embargo si la tabla que se esta creando se usa una sola vez es conveniente usar el `WITH` porque permite optimizar la ejecución. Si esa tabla va a ser usada mas de una vez dentro del proceso, las tablas temporales son la mejor opción."
   ]
  },
  {
   "cell_type": "markdown",
   "metadata": {
    "id": "xd0NhGwNnvGJ"
   },
   "source": [
    "# Funciones Analíticas\n",
    "\n",
    "Las funciones analíticas en SQL son un conjunto de funciones que te permiten realizar cálculos avanzados sobre un conjunto de filas relacionadas dentro de una consulta conservando las filas individuales y calculando sobre ventanas de datos relacionadas.\n",
    "\n",
    "Veamos un ejemplo para que quede más claro:"
   ]
  },
  {
   "cell_type": "code",
   "execution_count": 6,
   "metadata": {
    "id": "CgOu6ratj1__"
   },
   "outputs": [
    {
     "data": {
      "text/html": [
       "<div>\n",
       "<style scoped>\n",
       "    .dataframe tbody tr th:only-of-type {\n",
       "        vertical-align: middle;\n",
       "    }\n",
       "\n",
       "    .dataframe tbody tr th {\n",
       "        vertical-align: top;\n",
       "    }\n",
       "\n",
       "    .dataframe thead th {\n",
       "        text-align: right;\n",
       "    }\n",
       "</style>\n",
       "<table border=\"1\" class=\"dataframe\">\n",
       "  <thead>\n",
       "    <tr style=\"text-align: right;\">\n",
       "      <th></th>\n",
       "      <th>numero_de_cliente</th>\n",
       "      <th>foto_mes</th>\n",
       "      <th>mrentabilidad</th>\n",
       "    </tr>\n",
       "  </thead>\n",
       "  <tbody>\n",
       "    <tr>\n",
       "      <th>0</th>\n",
       "      <td>918147740</td>\n",
       "      <td>202101</td>\n",
       "      <td>276.74</td>\n",
       "    </tr>\n",
       "    <tr>\n",
       "      <th>1</th>\n",
       "      <td>918147740</td>\n",
       "      <td>202102</td>\n",
       "      <td>-735.18</td>\n",
       "    </tr>\n",
       "    <tr>\n",
       "      <th>2</th>\n",
       "      <td>918147740</td>\n",
       "      <td>202103</td>\n",
       "      <td>-417.20</td>\n",
       "    </tr>\n",
       "    <tr>\n",
       "      <th>3</th>\n",
       "      <td>918147740</td>\n",
       "      <td>202104</td>\n",
       "      <td>-694.08</td>\n",
       "    </tr>\n",
       "    <tr>\n",
       "      <th>4</th>\n",
       "      <td>918147740</td>\n",
       "      <td>202105</td>\n",
       "      <td>-1692.76</td>\n",
       "    </tr>\n",
       "    <tr>\n",
       "      <th>5</th>\n",
       "      <td>918147740</td>\n",
       "      <td>202106</td>\n",
       "      <td>-897.20</td>\n",
       "    </tr>\n",
       "  </tbody>\n",
       "</table>\n",
       "</div>"
      ],
      "text/plain": [
       "   numero_de_cliente  foto_mes  mrentabilidad\n",
       "0          918147740    202101         276.74\n",
       "1          918147740    202102        -735.18\n",
       "2          918147740    202103        -417.20\n",
       "3          918147740    202104        -694.08\n",
       "4          918147740    202105       -1692.76\n",
       "5          918147740    202106        -897.20"
      ]
     },
     "execution_count": 6,
     "metadata": {},
     "output_type": "execute_result"
    }
   ],
   "source": [
    "%%sql\n",
    "select\n",
    "    numero_de_cliente\n",
    "    , foto_mes\n",
    "    , mrentabilidad\n",
    "from competencia_01_crudo\n",
    "where numero_de_cliente = 918147740\n",
    "order by foto_mes"
   ]
  },
  {
   "cell_type": "code",
   "execution_count": 7,
   "metadata": {
    "id": "dcJ0thoGD_1M"
   },
   "outputs": [
    {
     "data": {
      "text/html": [
       "<div>\n",
       "<style scoped>\n",
       "    .dataframe tbody tr th:only-of-type {\n",
       "        vertical-align: middle;\n",
       "    }\n",
       "\n",
       "    .dataframe tbody tr th {\n",
       "        vertical-align: top;\n",
       "    }\n",
       "\n",
       "    .dataframe thead th {\n",
       "        text-align: right;\n",
       "    }\n",
       "</style>\n",
       "<table border=\"1\" class=\"dataframe\">\n",
       "  <thead>\n",
       "    <tr style=\"text-align: right;\">\n",
       "      <th></th>\n",
       "      <th>numero_de_cliente</th>\n",
       "      <th>foto_mes</th>\n",
       "      <th>mrentabilidad</th>\n",
       "      <th>mrentabilidad_mas_1</th>\n",
       "      <th>mrentabilidad_menos_1</th>\n",
       "      <th>mrentabilidad_mas_2</th>\n",
       "      <th>mrentabilidad_menos_2</th>\n",
       "    </tr>\n",
       "  </thead>\n",
       "  <tbody>\n",
       "    <tr>\n",
       "      <th>0</th>\n",
       "      <td>918147740</td>\n",
       "      <td>202101</td>\n",
       "      <td>276.74</td>\n",
       "      <td>-735.18</td>\n",
       "      <td>NaN</td>\n",
       "      <td>-417.20</td>\n",
       "      <td>NaN</td>\n",
       "    </tr>\n",
       "    <tr>\n",
       "      <th>1</th>\n",
       "      <td>918147740</td>\n",
       "      <td>202102</td>\n",
       "      <td>-735.18</td>\n",
       "      <td>-417.20</td>\n",
       "      <td>276.74</td>\n",
       "      <td>-694.08</td>\n",
       "      <td>NaN</td>\n",
       "    </tr>\n",
       "    <tr>\n",
       "      <th>2</th>\n",
       "      <td>918147740</td>\n",
       "      <td>202103</td>\n",
       "      <td>-417.20</td>\n",
       "      <td>-694.08</td>\n",
       "      <td>-735.18</td>\n",
       "      <td>-1692.76</td>\n",
       "      <td>276.74</td>\n",
       "    </tr>\n",
       "    <tr>\n",
       "      <th>3</th>\n",
       "      <td>918147740</td>\n",
       "      <td>202104</td>\n",
       "      <td>-694.08</td>\n",
       "      <td>-1692.76</td>\n",
       "      <td>-417.20</td>\n",
       "      <td>-897.20</td>\n",
       "      <td>-735.18</td>\n",
       "    </tr>\n",
       "    <tr>\n",
       "      <th>4</th>\n",
       "      <td>918147740</td>\n",
       "      <td>202105</td>\n",
       "      <td>-1692.76</td>\n",
       "      <td>-897.20</td>\n",
       "      <td>-694.08</td>\n",
       "      <td>NaN</td>\n",
       "      <td>-417.20</td>\n",
       "    </tr>\n",
       "    <tr>\n",
       "      <th>5</th>\n",
       "      <td>918147740</td>\n",
       "      <td>202106</td>\n",
       "      <td>-897.20</td>\n",
       "      <td>NaN</td>\n",
       "      <td>-1692.76</td>\n",
       "      <td>NaN</td>\n",
       "      <td>-694.08</td>\n",
       "    </tr>\n",
       "  </tbody>\n",
       "</table>\n",
       "</div>"
      ],
      "text/plain": [
       "   numero_de_cliente  foto_mes  mrentabilidad  mrentabilidad_mas_1  \\\n",
       "0          918147740    202101         276.74              -735.18   \n",
       "1          918147740    202102        -735.18              -417.20   \n",
       "2          918147740    202103        -417.20              -694.08   \n",
       "3          918147740    202104        -694.08             -1692.76   \n",
       "4          918147740    202105       -1692.76              -897.20   \n",
       "5          918147740    202106        -897.20                  NaN   \n",
       "\n",
       "   mrentabilidad_menos_1  mrentabilidad_mas_2  mrentabilidad_menos_2  \n",
       "0                    NaN              -417.20                    NaN  \n",
       "1                 276.74              -694.08                    NaN  \n",
       "2                -735.18             -1692.76                 276.74  \n",
       "3                -417.20              -897.20                -735.18  \n",
       "4                -694.08                  NaN                -417.20  \n",
       "5               -1692.76                  NaN                -694.08  "
      ]
     },
     "execution_count": 7,
     "metadata": {},
     "output_type": "execute_result"
    }
   ],
   "source": [
    "%%sql\n",
    "select\n",
    "    numero_de_cliente\n",
    "    , foto_mes\n",
    "    , mrentabilidad\n",
    "    , lead(mrentabilidad, 1) over (partition by numero_de_cliente order by foto_mes) as mrentabilidad_mas_1\n",
    "    , lag(mrentabilidad, 1) over (partition by numero_de_cliente order by foto_mes) as mrentabilidad_menos_1\n",
    "    , lead(mrentabilidad, 2) over (partition by numero_de_cliente order by foto_mes) as mrentabilidad_mas_2\n",
    "    , lag(mrentabilidad, 2) over (partition by numero_de_cliente order by foto_mes) as mrentabilidad_menos_2\n",
    "from competencia_01_crudo\n",
    "where numero_de_cliente = 918147740\n",
    "order by foto_mes\n",
    "\n"
   ]
  },
  {
   "cell_type": "markdown",
   "metadata": {
    "id": "dYRJzaepFXZL"
   },
   "source": [
    "* Qué paso?\n",
    "* ¿Cómo esta construyendo las nuevas variables?\n",
    "* ¿ Nos puede ayudar a construir targets ?\n",
    "\n",
    "¿Dondé puedo leer un poco más de esta magia negra? https://duckdb.org/docs/sql/window_functions.html\n",
    "\n",
    "## Los casos raros\n",
    "\n",
    "Que pasa con el cliente **930544172** y la foto **202103**\n"
   ]
  },
  {
   "cell_type": "code",
   "execution_count": 8,
   "metadata": {
    "id": "cdbHeTQoyhJ9"
   },
   "outputs": [
    {
     "data": {
      "text/html": [
       "<div>\n",
       "<style scoped>\n",
       "    .dataframe tbody tr th:only-of-type {\n",
       "        vertical-align: middle;\n",
       "    }\n",
       "\n",
       "    .dataframe tbody tr th {\n",
       "        vertical-align: top;\n",
       "    }\n",
       "\n",
       "    .dataframe thead th {\n",
       "        text-align: right;\n",
       "    }\n",
       "</style>\n",
       "<table border=\"1\" class=\"dataframe\">\n",
       "  <thead>\n",
       "    <tr style=\"text-align: right;\">\n",
       "      <th></th>\n",
       "      <th>numero_de_cliente</th>\n",
       "      <th>foto_mes</th>\n",
       "    </tr>\n",
       "  </thead>\n",
       "  <tbody>\n",
       "    <tr>\n",
       "      <th>0</th>\n",
       "      <td>930544172</td>\n",
       "      <td>202101</td>\n",
       "    </tr>\n",
       "    <tr>\n",
       "      <th>1</th>\n",
       "      <td>930544172</td>\n",
       "      <td>202102</td>\n",
       "    </tr>\n",
       "  </tbody>\n",
       "</table>\n",
       "</div>"
      ],
      "text/plain": [
       "   numero_de_cliente  foto_mes\n",
       "0          930544172    202101\n",
       "1          930544172    202102"
      ]
     },
     "execution_count": 8,
     "metadata": {},
     "output_type": "execute_result"
    }
   ],
   "source": [
    "%%sql\n",
    "select\n",
    "    numero_de_cliente\n",
    "    , foto_mes\n",
    "from competencia_01_crudo\n",
    "where numero_de_cliente = 930544172\n",
    "order by foto_mes"
   ]
  },
  {
   "cell_type": "markdown",
   "metadata": {
    "id": "UC_iKnqVyuf2"
   },
   "source": [
    "* ¿Cuál debería ser la clase para cada periodo?\n",
    "\n",
    "### Una pista\n",
    "\n",
    "Podemos generar todas las posibles combinaciones de clientes y periodos de manera muy simple"
   ]
  },
  {
   "cell_type": "code",
   "execution_count": 9,
   "metadata": {
    "id": "dt0nbm99zB9k"
   },
   "outputs": [
    {
     "data": {
      "text/html": [
       "<div>\n",
       "<style scoped>\n",
       "    .dataframe tbody tr th:only-of-type {\n",
       "        vertical-align: middle;\n",
       "    }\n",
       "\n",
       "    .dataframe tbody tr th {\n",
       "        vertical-align: top;\n",
       "    }\n",
       "\n",
       "    .dataframe thead th {\n",
       "        text-align: right;\n",
       "    }\n",
       "</style>\n",
       "<table border=\"1\" class=\"dataframe\">\n",
       "  <thead>\n",
       "    <tr style=\"text-align: right;\">\n",
       "      <th></th>\n",
       "      <th>numero_de_cliente</th>\n",
       "      <th>foto_mes</th>\n",
       "    </tr>\n",
       "  </thead>\n",
       "  <tbody>\n",
       "    <tr>\n",
       "      <th>0</th>\n",
       "      <td>930544172</td>\n",
       "      <td>202101</td>\n",
       "    </tr>\n",
       "    <tr>\n",
       "      <th>1</th>\n",
       "      <td>930544172</td>\n",
       "      <td>202102</td>\n",
       "    </tr>\n",
       "    <tr>\n",
       "      <th>2</th>\n",
       "      <td>930544172</td>\n",
       "      <td>202103</td>\n",
       "    </tr>\n",
       "    <tr>\n",
       "      <th>3</th>\n",
       "      <td>930544172</td>\n",
       "      <td>202104</td>\n",
       "    </tr>\n",
       "    <tr>\n",
       "      <th>4</th>\n",
       "      <td>930544172</td>\n",
       "      <td>202105</td>\n",
       "    </tr>\n",
       "    <tr>\n",
       "      <th>5</th>\n",
       "      <td>930544172</td>\n",
       "      <td>202106</td>\n",
       "    </tr>\n",
       "  </tbody>\n",
       "</table>\n",
       "</div>"
      ],
      "text/plain": [
       "   numero_de_cliente  foto_mes\n",
       "0          930544172    202101\n",
       "1          930544172    202102\n",
       "2          930544172    202103\n",
       "3          930544172    202104\n",
       "4          930544172    202105\n",
       "5          930544172    202106"
      ]
     },
     "execution_count": 9,
     "metadata": {},
     "output_type": "execute_result"
    }
   ],
   "source": [
    "%%sql\n",
    "with periodos as (\n",
    "  select distinct foto_mes from competencia_01_crudo\n",
    "), clientes as (\n",
    "  select distinct numero_de_cliente from competencia_01_crudo\n",
    ")\n",
    "select numero_de_cliente, foto_mes from clientes cross join periodos\n",
    "where numero_de_cliente = 930544172\n",
    "order by foto_mes"
   ]
  },
  {
   "cell_type": "markdown",
   "metadata": {
    "id": "bq2TnGq9zjur"
   },
   "source": [
    "Solo nos queda saber si estuvo o no el banco el cliente en ese periodo y armar el"
   ]
  },
  {
   "cell_type": "code",
   "execution_count": 10,
   "metadata": {
    "id": "r1P_a5bYzrB0"
   },
   "outputs": [
    {
     "data": {
      "text/html": [
       "<div>\n",
       "<style scoped>\n",
       "    .dataframe tbody tr th:only-of-type {\n",
       "        vertical-align: middle;\n",
       "    }\n",
       "\n",
       "    .dataframe tbody tr th {\n",
       "        vertical-align: top;\n",
       "    }\n",
       "\n",
       "    .dataframe thead th {\n",
       "        text-align: right;\n",
       "    }\n",
       "</style>\n",
       "<table border=\"1\" class=\"dataframe\">\n",
       "  <thead>\n",
       "    <tr style=\"text-align: right;\">\n",
       "      <th></th>\n",
       "      <th>numero_de_cliente</th>\n",
       "      <th>foto_mes</th>\n",
       "      <th>mes_0</th>\n",
       "    </tr>\n",
       "  </thead>\n",
       "  <tbody>\n",
       "    <tr>\n",
       "      <th>0</th>\n",
       "      <td>930544172</td>\n",
       "      <td>202101</td>\n",
       "      <td>1</td>\n",
       "    </tr>\n",
       "    <tr>\n",
       "      <th>1</th>\n",
       "      <td>930544172</td>\n",
       "      <td>202102</td>\n",
       "      <td>1</td>\n",
       "    </tr>\n",
       "    <tr>\n",
       "      <th>2</th>\n",
       "      <td>930544172</td>\n",
       "      <td>202103</td>\n",
       "      <td>0</td>\n",
       "    </tr>\n",
       "    <tr>\n",
       "      <th>3</th>\n",
       "      <td>930544172</td>\n",
       "      <td>202104</td>\n",
       "      <td>0</td>\n",
       "    </tr>\n",
       "    <tr>\n",
       "      <th>4</th>\n",
       "      <td>930544172</td>\n",
       "      <td>202105</td>\n",
       "      <td>0</td>\n",
       "    </tr>\n",
       "    <tr>\n",
       "      <th>5</th>\n",
       "      <td>930544172</td>\n",
       "      <td>202106</td>\n",
       "      <td>0</td>\n",
       "    </tr>\n",
       "  </tbody>\n",
       "</table>\n",
       "</div>"
      ],
      "text/plain": [
       "   numero_de_cliente  foto_mes  mes_0\n",
       "0          930544172    202101      1\n",
       "1          930544172    202102      1\n",
       "2          930544172    202103      0\n",
       "3          930544172    202104      0\n",
       "4          930544172    202105      0\n",
       "5          930544172    202106      0"
      ]
     },
     "execution_count": 10,
     "metadata": {},
     "output_type": "execute_result"
    }
   ],
   "source": [
    "%%sql\n",
    "with periodos as (\n",
    "    select distinct foto_mes from competencia_01_crudo -- Esto también se puede hacer con secuencias\n",
    "), clientes as (\n",
    "    select distinct numero_de_cliente from competencia_01_crudo\n",
    "), todo as (\n",
    "    select numero_de_cliente, foto_mes from clientes cross join periodos\n",
    ")\n",
    "select\n",
    "    t.numero_de_cliente\n",
    "    , t.foto_mes\n",
    "    , if(c.numero_de_cliente is null, 0, 1) as mes_0\n",
    "from todo t\n",
    "left join competencia_01_crudo c using (numero_de_cliente, foto_mes)\n",
    "where t.numero_de_cliente = 930544172\n",
    "order by foto_mes"
   ]
  },
  {
   "cell_type": "markdown",
   "metadata": {
    "id": "srh1jEc40QXi"
   },
   "source": [
    "Antes de continuar, tomémonos un momento para reflexionar. Con todas estas piezas, ¿cómo podemos ensamblar el target?\n",
    "\n",
    "Una vez que lo tengamos claro sobre el papel, proceda a completar el código que sigue."
   ]
  },
  {
   "cell_type": "code",
   "execution_count": null,
   "metadata": {
    "id": "_qF0ytXR0v4s"
   },
   "outputs": [],
   "source": [
    "%%sql\n",
    "create or replace table competencia_01 as\n",
    "with periodos as (\n",
    "    select distinct foto_mes from competencia_01_crudo\n",
    "), clientes as (\n",
    "    select distinct numero_de_cliente from competencia_01_crudo\n",
    "), todo as (\n",
    "    select numero_de_cliente, foto_mes from clientes cross join periodos\n",
    "), clase_ternaria as (\n",
    "    select\n",
    "        c.*\n",
    "        , if(c.numero_de_cliente is null, 0, 1) as mes_0\n",
    "        , lead(mes_0, 1) over (partition by t.numero_de_cliente order by foto_mes) as mes_1\n",
    "        , lead(mes_0, 2) over (partition by t.numero_de_cliente order by foto_mes) as mes_2\n",
    "        , null AS clase_ternaria-- Replazar null por la lógica que genera el target\n",
    "    from todo t\n",
    "    left join competencia_01_crudo c using (numero_de_cliente, foto_mes)\n",
    ") select\n",
    "  * EXCLUDE (mes_0, mes_1, mes_2)\n",
    "from clase_ternaria\n",
    "where mes_0 = 1"
   ]
  },
  {
   "cell_type": "markdown",
   "metadata": {
    "id": "acakyUUY2dzk"
   },
   "source": [
    "Revisamos que todo salga como esperamos"
   ]
  },
  {
   "cell_type": "code",
   "execution_count": null,
   "metadata": {
    "id": "N3zp0WLz2XIK"
   },
   "outputs": [],
   "source": [
    "%sql select count(*) from competencia_01"
   ]
  },
  {
   "cell_type": "markdown",
   "metadata": {
    "id": "90EgjibQ2hcG"
   },
   "source": [
    "Y vemos la cardinalidad de las clases por periodo"
   ]
  },
  {
   "cell_type": "code",
   "execution_count": null,
   "metadata": {
    "id": "VZJBWI322Z3d"
   },
   "outputs": [],
   "source": [
    "%%sql\n",
    "PIVOT competencia_01\n",
    "on clase_ternaria\n",
    "USING count(numero_de_cliente)\n",
    "GROUP BY foto_mes"
   ]
  },
  {
   "cell_type": "markdown",
   "metadata": {
    "id": "SCxmW_Bv2mFl"
   },
   "source": [
    "Y finalmente almacenamos el nuevo dataset para ser usado a continuación"
   ]
  },
  {
   "cell_type": "code",
   "execution_count": null,
   "metadata": {
    "id": "qL23ffUz0zCN"
   },
   "outputs": [],
   "source": [
    "%%sql COPY competencia_01 TO '{{dataset_path}}competencia_01.csv' (FORMAT CSV, HEADER)"
   ]
  },
  {
   "cell_type": "markdown",
   "metadata": {
    "id": "2Mb_eDF5xmkT"
   },
   "source": [
    "\n",
    "## El pato del amor\n",
    "\n",
    "DuckDB no es una base de datos SQL estándar; su sintaxis moderna facilita significativamente la escritura de consultas. A continuación, te menciono algunas características destacadas:\n",
    "\n",
    "+ Uso de variables: En DuckDB, no es necesario reescribir las variables; puedes utilizar tus variables una vez definidas, lo que simplifica el código.\n",
    "\n",
    "+ Función IF: DuckDB soporta la función IF(condición, valor_si_verdadero, valor_si_falso), lo que hace que tu código sea más claro y legible en comparación con el uso de CASE WHEN.\n",
    "\n",
    "+ Exclusión de campos: Puedes utilizar SELECT * EXCLUDE(field1, ...) para excluir campos específicos de la lista de selección, lo que ahorra tiempo y esfuerzo.\n",
    "\n",
    "+ Alias en cláusulas: Es posible utilizar alias en las cláusulas WHERE, GROUP BY y HAVING, lo que añade flexibilidad a la escritura de consultas.\n",
    "\n",
    "+ Uso de alias en cálculos: DuckDB permite el uso de alias dentro del cálculo de otros campos, facilitando la manipulación y transformación de datos en una consulta.\n",
    "\n",
    "Estas son solo algunas de las capacidades que hacen de DuckDB una herramienta poderosa. Te recomiendo leer la documentación y el blog oficial para explorar más a fondo su potencial."
   ]
  }
 ],
 "metadata": {
  "colab": {
   "provenance": []
  },
  "kernelspec": {
   "display_name": "envdm",
   "language": "python",
   "name": "python3"
  },
  "language_info": {
   "codemirror_mode": {
    "name": "ipython",
    "version": 3
   },
   "file_extension": ".py",
   "mimetype": "text/x-python",
   "name": "python",
   "nbconvert_exporter": "python",
   "pygments_lexer": "ipython3",
   "version": "3.11.0"
  }
 },
 "nbformat": 4,
 "nbformat_minor": 0
}
