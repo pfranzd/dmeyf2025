{
 "cells": [
  {
   "cell_type": "markdown",
   "metadata": {
    "id": "pVzZPzOXT19D"
   },
   "source": [
    "# Crear la clase  Target\n",
    "\n",
    "## Ejercicio 1\n",
    "\n",
    "Cree el archivo competencia_01.csv, usando el competencia_01_crudo.csv con una variable adicional llamada clase_ternaria, que contenga las categorías **CONTINUA, BAJA+1 y BAJA+2**\n",
    "\n",
    "Ayudita\n",
    "Para practicar el muy útil y necesario lenguaje **SQL**, vamos a utilizar una base de datos **OLAP** llamada **DuckDB**.\n",
    "\n",
    "La documentación la puede encontrar [aquí](https://duckdb.org/docs/archive/0.8.1/sql/introduction) Procedemos a instalarla, esto se debe ejecutar una sola vez"
   ]
  },
  {
   "cell_type": "code",
   "execution_count": 1,
   "metadata": {
    "id": "44HVghTmUHwS"
   },
   "outputs": [],
   "source": [
    "# %%bash\n",
    "# pip install duckdb\n",
    "# pip install jupysql\n",
    "# pip install duckdb-engine"
   ]
  },
  {
   "cell_type": "markdown",
   "metadata": {
    "id": "wNaT9UiaUPOZ"
   },
   "source": [
    "Configuramos el entorno de ejecución. Si ya tiene todo instalado, solo necesita ejecutar esta celda para empezar a usar **duckdb**"
   ]
  },
  {
   "cell_type": "code",
   "execution_count": 2,
   "metadata": {
    "id": "ynyJ8u7fUVVO"
   },
   "outputs": [],
   "source": [
    "import duckdb\n",
    "import pandas as pd\n",
    "\n",
    "%load_ext sql\n",
    "%config SqlMagic.autopandas = True\n",
    "%config SqlMagic.feedback = False\n",
    "%config SqlMagic.displaycon = False\n",
    "\n",
    "%sql duckdb://"
   ]
  },
  {
   "cell_type": "markdown",
   "metadata": {
    "id": "EBGhTysbUZCv"
   },
   "source": [
    "Y ya podemos usar **SQL** dentro de una notebook!"
   ]
  },
  {
   "cell_type": "code",
   "execution_count": 3,
   "metadata": {
    "id": "_ZAW6zikUaZ7"
   },
   "outputs": [
    {
     "data": {
      "text/html": [
       "<div>\n",
       "<style scoped>\n",
       "    .dataframe tbody tr th:only-of-type {\n",
       "        vertical-align: middle;\n",
       "    }\n",
       "\n",
       "    .dataframe tbody tr th {\n",
       "        vertical-align: top;\n",
       "    }\n",
       "\n",
       "    .dataframe thead th {\n",
       "        text-align: right;\n",
       "    }\n",
       "</style>\n",
       "<table border=\"1\" class=\"dataframe\">\n",
       "  <thead>\n",
       "    <tr style=\"text-align: right;\">\n",
       "      <th></th>\n",
       "      <th>'hola mundo'</th>\n",
       "    </tr>\n",
       "  </thead>\n",
       "  <tbody>\n",
       "    <tr>\n",
       "      <th>0</th>\n",
       "      <td>hola mundo</td>\n",
       "    </tr>\n",
       "  </tbody>\n",
       "</table>\n",
       "</div>"
      ],
      "text/plain": [
       "  'hola mundo'\n",
       "0   hola mundo"
      ]
     },
     "execution_count": 3,
     "metadata": {},
     "output_type": "execute_result"
    }
   ],
   "source": [
    "%%sql\n",
    "select 'hola mundo'"
   ]
  },
  {
   "cell_type": "markdown",
   "metadata": {
    "id": "ryBbnrxaUdzc"
   },
   "source": [
    "Para cargar el archivo `.csv` a una tabla pasando su ubicación a través de la variable `dataset_path`:"
   ]
  },
  {
   "cell_type": "code",
   "execution_count": 4,
   "metadata": {
    "id": "U-Sp5eNSUtdI"
   },
   "outputs": [],
   "source": [
    "dataset_path = 'C:/Users/pedro/Documents/DMEyF/dmeyf2025/data/'\n",
    "dataset_file = 'raw/competencia_01_crudo.csv'"
   ]
  },
  {
   "cell_type": "code",
   "execution_count": 5,
   "metadata": {
    "id": "tXDmDCN1UjPe"
   },
   "outputs": [
    {
     "data": {
      "text/html": [
       "<div>\n",
       "<style scoped>\n",
       "    .dataframe tbody tr th:only-of-type {\n",
       "        vertical-align: middle;\n",
       "    }\n",
       "\n",
       "    .dataframe tbody tr th {\n",
       "        vertical-align: top;\n",
       "    }\n",
       "\n",
       "    .dataframe thead th {\n",
       "        text-align: right;\n",
       "    }\n",
       "</style>\n",
       "<table border=\"1\" class=\"dataframe\">\n",
       "  <thead>\n",
       "    <tr style=\"text-align: right;\">\n",
       "      <th></th>\n",
       "      <th>Success</th>\n",
       "    </tr>\n",
       "  </thead>\n",
       "  <tbody>\n",
       "  </tbody>\n",
       "</table>\n",
       "</div>"
      ],
      "text/plain": [
       "Empty DataFrame\n",
       "Columns: [Success]\n",
       "Index: []"
      ]
     },
     "execution_count": 5,
     "metadata": {},
     "output_type": "execute_result"
    }
   ],
   "source": [
    "%%sql\n",
    "create or replace table competencia_01_crudo as\n",
    "select\n",
    "    *\n",
    "from read_csv_auto(\"{{dataset_path + dataset_file}}\")"
   ]
  },
  {
   "cell_type": "markdown",
   "metadata": {
    "id": "adhNnPNzVH2L"
   },
   "source": [
    "Hagamos unas queries básicas para comprobar que todo esta funcionando bien."
   ]
  },
  {
   "cell_type": "code",
   "execution_count": 6,
   "metadata": {
    "id": "OwAFMhLiVfVN"
   },
   "outputs": [
    {
     "data": {
      "text/html": [
       "<div>\n",
       "<style scoped>\n",
       "    .dataframe tbody tr th:only-of-type {\n",
       "        vertical-align: middle;\n",
       "    }\n",
       "\n",
       "    .dataframe tbody tr th {\n",
       "        vertical-align: top;\n",
       "    }\n",
       "\n",
       "    .dataframe thead th {\n",
       "        text-align: right;\n",
       "    }\n",
       "</style>\n",
       "<table border=\"1\" class=\"dataframe\">\n",
       "  <thead>\n",
       "    <tr style=\"text-align: right;\">\n",
       "      <th></th>\n",
       "      <th>numero_de_cliente</th>\n",
       "      <th>foto_mes</th>\n",
       "      <th>active_quarter</th>\n",
       "      <th>cliente_vip</th>\n",
       "      <th>internet</th>\n",
       "      <th>cliente_edad</th>\n",
       "      <th>cliente_antiguedad</th>\n",
       "      <th>mrentabilidad</th>\n",
       "      <th>mrentabilidad_annual</th>\n",
       "      <th>mcomisiones</th>\n",
       "      <th>...</th>\n",
       "      <th>Visa_madelantodolares</th>\n",
       "      <th>Visa_fultimo_cierre</th>\n",
       "      <th>Visa_mpagado</th>\n",
       "      <th>Visa_mpagospesos</th>\n",
       "      <th>Visa_mpagosdolares</th>\n",
       "      <th>Visa_fechaalta</th>\n",
       "      <th>Visa_mconsumototal</th>\n",
       "      <th>Visa_cconsumos</th>\n",
       "      <th>Visa_cadelantosefectivo</th>\n",
       "      <th>Visa_mpagominimo</th>\n",
       "    </tr>\n",
       "  </thead>\n",
       "  <tbody>\n",
       "    <tr>\n",
       "      <th>0</th>\n",
       "      <td>249221323</td>\n",
       "      <td>202101</td>\n",
       "      <td>1</td>\n",
       "      <td>0</td>\n",
       "      <td>0</td>\n",
       "      <td>46</td>\n",
       "      <td>93</td>\n",
       "      <td>3070.24</td>\n",
       "      <td>15691.10</td>\n",
       "      <td>1278.11</td>\n",
       "      <td>...</td>\n",
       "      <td>0.0</td>\n",
       "      <td>4</td>\n",
       "      <td>0.00</td>\n",
       "      <td>-20833.47</td>\n",
       "      <td>0.0</td>\n",
       "      <td>2814</td>\n",
       "      <td>6743.38</td>\n",
       "      <td>6</td>\n",
       "      <td>0</td>\n",
       "      <td>9559.95</td>\n",
       "    </tr>\n",
       "    <tr>\n",
       "      <th>1</th>\n",
       "      <td>249227600</td>\n",
       "      <td>202101</td>\n",
       "      <td>1</td>\n",
       "      <td>0</td>\n",
       "      <td>0</td>\n",
       "      <td>42</td>\n",
       "      <td>278</td>\n",
       "      <td>496.21</td>\n",
       "      <td>15321.80</td>\n",
       "      <td>418.97</td>\n",
       "      <td>...</td>\n",
       "      <td>0.0</td>\n",
       "      <td>11</td>\n",
       "      <td>13267.49</td>\n",
       "      <td>-9662.51</td>\n",
       "      <td>0.0</td>\n",
       "      <td>5541</td>\n",
       "      <td>9419.90</td>\n",
       "      <td>8</td>\n",
       "      <td>0</td>\n",
       "      <td>1900.26</td>\n",
       "    </tr>\n",
       "    <tr>\n",
       "      <th>2</th>\n",
       "      <td>249234235</td>\n",
       "      <td>202101</td>\n",
       "      <td>1</td>\n",
       "      <td>0</td>\n",
       "      <td>0</td>\n",
       "      <td>54</td>\n",
       "      <td>17</td>\n",
       "      <td>806.56</td>\n",
       "      <td>10549.80</td>\n",
       "      <td>174.26</td>\n",
       "      <td>...</td>\n",
       "      <td>0.0</td>\n",
       "      <td>4</td>\n",
       "      <td>0.00</td>\n",
       "      <td>-4692.00</td>\n",
       "      <td>0.0</td>\n",
       "      <td>577</td>\n",
       "      <td>2821.32</td>\n",
       "      <td>2</td>\n",
       "      <td>0</td>\n",
       "      <td>6885.51</td>\n",
       "    </tr>\n",
       "    <tr>\n",
       "      <th>3</th>\n",
       "      <td>249244449</td>\n",
       "      <td>202101</td>\n",
       "      <td>1</td>\n",
       "      <td>0</td>\n",
       "      <td>0</td>\n",
       "      <td>61</td>\n",
       "      <td>290</td>\n",
       "      <td>27485.71</td>\n",
       "      <td>65621.74</td>\n",
       "      <td>23590.68</td>\n",
       "      <td>...</td>\n",
       "      <td>0.0</td>\n",
       "      <td>25</td>\n",
       "      <td>23800.17</td>\n",
       "      <td>-20349.22</td>\n",
       "      <td>0.0</td>\n",
       "      <td>7916</td>\n",
       "      <td>23509.71</td>\n",
       "      <td>8</td>\n",
       "      <td>0</td>\n",
       "      <td>1219.92</td>\n",
       "    </tr>\n",
       "    <tr>\n",
       "      <th>4</th>\n",
       "      <td>249244739</td>\n",
       "      <td>202101</td>\n",
       "      <td>1</td>\n",
       "      <td>0</td>\n",
       "      <td>0</td>\n",
       "      <td>66</td>\n",
       "      <td>320</td>\n",
       "      <td>3306.82</td>\n",
       "      <td>48787.99</td>\n",
       "      <td>3274.95</td>\n",
       "      <td>...</td>\n",
       "      <td>0.0</td>\n",
       "      <td>4</td>\n",
       "      <td>0.00</td>\n",
       "      <td>-88178.37</td>\n",
       "      <td>0.0</td>\n",
       "      <td>1958</td>\n",
       "      <td>20397.54</td>\n",
       "      <td>8</td>\n",
       "      <td>0</td>\n",
       "      <td>2627.52</td>\n",
       "    </tr>\n",
       "  </tbody>\n",
       "</table>\n",
       "<p>5 rows × 154 columns</p>\n",
       "</div>"
      ],
      "text/plain": [
       "   numero_de_cliente  foto_mes  active_quarter  cliente_vip  internet  \\\n",
       "0          249221323    202101               1            0         0   \n",
       "1          249227600    202101               1            0         0   \n",
       "2          249234235    202101               1            0         0   \n",
       "3          249244449    202101               1            0         0   \n",
       "4          249244739    202101               1            0         0   \n",
       "\n",
       "   cliente_edad  cliente_antiguedad  mrentabilidad  mrentabilidad_annual  \\\n",
       "0            46                  93        3070.24              15691.10   \n",
       "1            42                 278         496.21              15321.80   \n",
       "2            54                  17         806.56              10549.80   \n",
       "3            61                 290       27485.71              65621.74   \n",
       "4            66                 320        3306.82              48787.99   \n",
       "\n",
       "   mcomisiones  ...  Visa_madelantodolares  Visa_fultimo_cierre  Visa_mpagado  \\\n",
       "0      1278.11  ...                    0.0                    4          0.00   \n",
       "1       418.97  ...                    0.0                   11      13267.49   \n",
       "2       174.26  ...                    0.0                    4          0.00   \n",
       "3     23590.68  ...                    0.0                   25      23800.17   \n",
       "4      3274.95  ...                    0.0                    4          0.00   \n",
       "\n",
       "   Visa_mpagospesos  Visa_mpagosdolares  Visa_fechaalta  Visa_mconsumototal  \\\n",
       "0         -20833.47                 0.0            2814             6743.38   \n",
       "1          -9662.51                 0.0            5541             9419.90   \n",
       "2          -4692.00                 0.0             577             2821.32   \n",
       "3         -20349.22                 0.0            7916            23509.71   \n",
       "4         -88178.37                 0.0            1958            20397.54   \n",
       "\n",
       "   Visa_cconsumos  Visa_cadelantosefectivo  Visa_mpagominimo  \n",
       "0               6                        0           9559.95  \n",
       "1               8                        0           1900.26  \n",
       "2               2                        0           6885.51  \n",
       "3               8                        0           1219.92  \n",
       "4               8                        0           2627.52  \n",
       "\n",
       "[5 rows x 154 columns]"
      ]
     },
     "execution_count": 6,
     "metadata": {},
     "output_type": "execute_result"
    }
   ],
   "source": [
    "%sql select * from competencia_01_crudo limit 5"
   ]
  },
  {
   "cell_type": "code",
   "execution_count": 7,
   "metadata": {
    "id": "_Xzf9v9zVihU"
   },
   "outputs": [
    {
     "data": {
      "text/html": [
       "<div>\n",
       "<style scoped>\n",
       "    .dataframe tbody tr th:only-of-type {\n",
       "        vertical-align: middle;\n",
       "    }\n",
       "\n",
       "    .dataframe tbody tr th {\n",
       "        vertical-align: top;\n",
       "    }\n",
       "\n",
       "    .dataframe thead th {\n",
       "        text-align: right;\n",
       "    }\n",
       "</style>\n",
       "<table border=\"1\" class=\"dataframe\">\n",
       "  <thead>\n",
       "    <tr style=\"text-align: right;\">\n",
       "      <th></th>\n",
       "      <th>foto_mes</th>\n",
       "      <th>cantidad</th>\n",
       "    </tr>\n",
       "  </thead>\n",
       "  <tbody>\n",
       "    <tr>\n",
       "      <th>0</th>\n",
       "      <td>202101</td>\n",
       "      <td>161527</td>\n",
       "    </tr>\n",
       "    <tr>\n",
       "      <th>1</th>\n",
       "      <td>202102</td>\n",
       "      <td>162155</td>\n",
       "    </tr>\n",
       "    <tr>\n",
       "      <th>2</th>\n",
       "      <td>202103</td>\n",
       "      <td>163109</td>\n",
       "    </tr>\n",
       "    <tr>\n",
       "      <th>3</th>\n",
       "      <td>202104</td>\n",
       "      <td>163418</td>\n",
       "    </tr>\n",
       "    <tr>\n",
       "      <th>4</th>\n",
       "      <td>202105</td>\n",
       "      <td>163917</td>\n",
       "    </tr>\n",
       "    <tr>\n",
       "      <th>5</th>\n",
       "      <td>202106</td>\n",
       "      <td>164313</td>\n",
       "    </tr>\n",
       "  </tbody>\n",
       "</table>\n",
       "</div>"
      ],
      "text/plain": [
       "   foto_mes  cantidad\n",
       "0    202101    161527\n",
       "1    202102    162155\n",
       "2    202103    163109\n",
       "3    202104    163418\n",
       "4    202105    163917\n",
       "5    202106    164313"
      ]
     },
     "execution_count": 7,
     "metadata": {},
     "output_type": "execute_result"
    }
   ],
   "source": [
    "%%sql\n",
    "select\n",
    "    foto_mes\n",
    "    , count(*) as cantidad -- cuenta cuantos casos hay en cada foto_mes\n",
    "                           -- y lo guarda en un campo llamado cantidad\n",
    "from competencia_01_crudo\n",
    "group by foto_mes"
   ]
  },
  {
   "cell_type": "markdown",
   "metadata": {
    "id": "wWfNQsvZVljl"
   },
   "source": [
    "Perfecto, ahora cree una nueva tabla con la variable adicional que se le pide."
   ]
  },
  {
   "cell_type": "code",
   "execution_count": 8,
   "metadata": {
    "id": "PLZhDj7lXs3j"
   },
   "outputs": [
    {
     "data": {
      "application/vnd.jupyter.widget-view+json": {
       "model_id": "f135636d32014c60a9bd48b3b1fd7001",
       "version_major": 2,
       "version_minor": 0
      },
      "text/plain": [
       "FloatProgress(value=0.0, layout=Layout(width='auto'), style=ProgressStyle(bar_color='black'))"
      ]
     },
     "metadata": {},
     "output_type": "display_data"
    },
    {
     "name": "stdout",
     "output_type": "stream",
     "text": [
      "CPU times: total: 21.7 s\n",
      "Wall time: 4.14 s\n"
     ]
    }
   ],
   "source": [
    "%%time\n",
    "%%sql\n",
    "create or replace table competencia_01 as\n",
    "WITH tabla_1 AS (\n",
    "    SELECT *,\n",
    "    LEAD(foto_mes, 1, 0) OVER(PARTITION BY numero_de_cliente ORDER BY foto_mes) AS mes_1,\n",
    "    LEAD(foto_mes, 2, 0) OVER(PARTITION BY numero_de_cliente ORDER BY foto_mes) AS mes_2\n",
    "    FROM competencia_01_crudo\n",
    ")\n",
    "SELECT\n",
    "    * EXCLUDE(mes_1, mes_2),\n",
    "    CASE\n",
    "        WHEN foto_mes = 202106 THEN NULL\n",
    "        WHEN mes_1 = 0 THEN 'BAJA+1'\n",
    "        WHEN foto_mes = 202105 AND mes_2 = 0 THEN NULL \n",
    "        WHEN mes_1 <> 0 AND mes_2 = 0 THEN 'BAJA+2'\n",
    "        ELSE 'CONTINUA'\n",
    "    END AS clase_ternaria\n",
    "FROM tabla_1;"
   ]
  },
  {
   "cell_type": "code",
   "execution_count": 9,
   "metadata": {
    "id": "0D5fdoMabGhI"
   },
   "outputs": [
    {
     "data": {
      "text/html": [
       "<div>\n",
       "<style scoped>\n",
       "    .dataframe tbody tr th:only-of-type {\n",
       "        vertical-align: middle;\n",
       "    }\n",
       "\n",
       "    .dataframe tbody tr th {\n",
       "        vertical-align: top;\n",
       "    }\n",
       "\n",
       "    .dataframe thead th {\n",
       "        text-align: right;\n",
       "    }\n",
       "</style>\n",
       "<table border=\"1\" class=\"dataframe\">\n",
       "  <thead>\n",
       "    <tr style=\"text-align: right;\">\n",
       "      <th></th>\n",
       "      <th>numero_de_cliente</th>\n",
       "      <th>foto_mes</th>\n",
       "      <th>active_quarter</th>\n",
       "      <th>cliente_vip</th>\n",
       "      <th>internet</th>\n",
       "      <th>cliente_edad</th>\n",
       "      <th>cliente_antiguedad</th>\n",
       "      <th>mrentabilidad</th>\n",
       "      <th>mrentabilidad_annual</th>\n",
       "      <th>mcomisiones</th>\n",
       "      <th>...</th>\n",
       "      <th>Visa_fultimo_cierre</th>\n",
       "      <th>Visa_mpagado</th>\n",
       "      <th>Visa_mpagospesos</th>\n",
       "      <th>Visa_mpagosdolares</th>\n",
       "      <th>Visa_fechaalta</th>\n",
       "      <th>Visa_mconsumototal</th>\n",
       "      <th>Visa_cconsumos</th>\n",
       "      <th>Visa_cadelantosefectivo</th>\n",
       "      <th>Visa_mpagominimo</th>\n",
       "      <th>clase_ternaria</th>\n",
       "    </tr>\n",
       "  </thead>\n",
       "  <tbody>\n",
       "    <tr>\n",
       "      <th>0</th>\n",
       "      <td>249255747</td>\n",
       "      <td>202101</td>\n",
       "      <td>1</td>\n",
       "      <td>0</td>\n",
       "      <td>0</td>\n",
       "      <td>56</td>\n",
       "      <td>85</td>\n",
       "      <td>792.76</td>\n",
       "      <td>48185.72</td>\n",
       "      <td>397.40</td>\n",
       "      <td>...</td>\n",
       "      <td>4</td>\n",
       "      <td>0.0</td>\n",
       "      <td>-19323.21</td>\n",
       "      <td>0.0</td>\n",
       "      <td>1538</td>\n",
       "      <td>26521.15</td>\n",
       "      <td>18</td>\n",
       "      <td>0</td>\n",
       "      <td>1618.74</td>\n",
       "      <td>CONTINUA</td>\n",
       "    </tr>\n",
       "    <tr>\n",
       "      <th>1</th>\n",
       "      <td>249255747</td>\n",
       "      <td>202102</td>\n",
       "      <td>1</td>\n",
       "      <td>0</td>\n",
       "      <td>0</td>\n",
       "      <td>56</td>\n",
       "      <td>86</td>\n",
       "      <td>15549.20</td>\n",
       "      <td>52210.75</td>\n",
       "      <td>15131.87</td>\n",
       "      <td>...</td>\n",
       "      <td>-3</td>\n",
       "      <td>0.0</td>\n",
       "      <td>-3811.58</td>\n",
       "      <td>0.0</td>\n",
       "      <td>1566</td>\n",
       "      <td>18188.18</td>\n",
       "      <td>9</td>\n",
       "      <td>0</td>\n",
       "      <td>3237.48</td>\n",
       "      <td>CONTINUA</td>\n",
       "    </tr>\n",
       "    <tr>\n",
       "      <th>2</th>\n",
       "      <td>249255747</td>\n",
       "      <td>202103</td>\n",
       "      <td>1</td>\n",
       "      <td>0</td>\n",
       "      <td>0</td>\n",
       "      <td>56</td>\n",
       "      <td>87</td>\n",
       "      <td>1219.16</td>\n",
       "      <td>51994.65</td>\n",
       "      <td>1229.18</td>\n",
       "      <td>...</td>\n",
       "      <td>1</td>\n",
       "      <td>0.0</td>\n",
       "      <td>-3237.48</td>\n",
       "      <td>0.0</td>\n",
       "      <td>1597</td>\n",
       "      <td>7042.92</td>\n",
       "      <td>7</td>\n",
       "      <td>0</td>\n",
       "      <td>3460.35</td>\n",
       "      <td>CONTINUA</td>\n",
       "    </tr>\n",
       "    <tr>\n",
       "      <th>3</th>\n",
       "      <td>249255747</td>\n",
       "      <td>202104</td>\n",
       "      <td>1</td>\n",
       "      <td>0</td>\n",
       "      <td>0</td>\n",
       "      <td>56</td>\n",
       "      <td>88</td>\n",
       "      <td>9023.22</td>\n",
       "      <td>58668.96</td>\n",
       "      <td>8795.06</td>\n",
       "      <td>...</td>\n",
       "      <td>2</td>\n",
       "      <td>0.0</td>\n",
       "      <td>-46651.84</td>\n",
       "      <td>0.0</td>\n",
       "      <td>1627</td>\n",
       "      <td>26086.04</td>\n",
       "      <td>15</td>\n",
       "      <td>0</td>\n",
       "      <td>0.00</td>\n",
       "      <td>CONTINUA</td>\n",
       "    </tr>\n",
       "    <tr>\n",
       "      <th>4</th>\n",
       "      <td>249255747</td>\n",
       "      <td>202105</td>\n",
       "      <td>1</td>\n",
       "      <td>0</td>\n",
       "      <td>0</td>\n",
       "      <td>56</td>\n",
       "      <td>89</td>\n",
       "      <td>3307.06</td>\n",
       "      <td>59767.23</td>\n",
       "      <td>1975.12</td>\n",
       "      <td>...</td>\n",
       "      <td>5</td>\n",
       "      <td>0.0</td>\n",
       "      <td>-24860.82</td>\n",
       "      <td>0.0</td>\n",
       "      <td>1658</td>\n",
       "      <td>28443.60</td>\n",
       "      <td>9</td>\n",
       "      <td>0</td>\n",
       "      <td>7683.15</td>\n",
       "      <td>None</td>\n",
       "    </tr>\n",
       "  </tbody>\n",
       "</table>\n",
       "<p>5 rows × 155 columns</p>\n",
       "</div>"
      ],
      "text/plain": [
       "   numero_de_cliente  foto_mes  active_quarter  cliente_vip  internet  \\\n",
       "0          249255747    202101               1            0         0   \n",
       "1          249255747    202102               1            0         0   \n",
       "2          249255747    202103               1            0         0   \n",
       "3          249255747    202104               1            0         0   \n",
       "4          249255747    202105               1            0         0   \n",
       "\n",
       "   cliente_edad  cliente_antiguedad  mrentabilidad  mrentabilidad_annual  \\\n",
       "0            56                  85         792.76              48185.72   \n",
       "1            56                  86       15549.20              52210.75   \n",
       "2            56                  87        1219.16              51994.65   \n",
       "3            56                  88        9023.22              58668.96   \n",
       "4            56                  89        3307.06              59767.23   \n",
       "\n",
       "   mcomisiones  ...  Visa_fultimo_cierre  Visa_mpagado  Visa_mpagospesos  \\\n",
       "0       397.40  ...                    4           0.0         -19323.21   \n",
       "1     15131.87  ...                   -3           0.0          -3811.58   \n",
       "2      1229.18  ...                    1           0.0          -3237.48   \n",
       "3      8795.06  ...                    2           0.0         -46651.84   \n",
       "4      1975.12  ...                    5           0.0         -24860.82   \n",
       "\n",
       "   Visa_mpagosdolares  Visa_fechaalta  Visa_mconsumototal  Visa_cconsumos  \\\n",
       "0                 0.0            1538            26521.15              18   \n",
       "1                 0.0            1566            18188.18               9   \n",
       "2                 0.0            1597             7042.92               7   \n",
       "3                 0.0            1627            26086.04              15   \n",
       "4                 0.0            1658            28443.60               9   \n",
       "\n",
       "   Visa_cadelantosefectivo  Visa_mpagominimo  clase_ternaria  \n",
       "0                        0           1618.74        CONTINUA  \n",
       "1                        0           3237.48        CONTINUA  \n",
       "2                        0           3460.35        CONTINUA  \n",
       "3                        0              0.00        CONTINUA  \n",
       "4                        0           7683.15            None  \n",
       "\n",
       "[5 rows x 155 columns]"
      ]
     },
     "execution_count": 9,
     "metadata": {},
     "output_type": "execute_result"
    }
   ],
   "source": [
    "%sql select * from competencia_01 limit 5"
   ]
  },
  {
   "cell_type": "markdown",
   "metadata": {
    "id": "BqDqo0WrV9F2"
   },
   "source": [
    "## Ejercicio 1.1\n",
    "* ¿Cuál es la nominalidad de cada clase?\n"
   ]
  },
  {
   "cell_type": "code",
   "execution_count": 10,
   "metadata": {
    "id": "YdzS2DsIYbWL"
   },
   "outputs": [
    {
     "data": {
      "text/html": [
       "<div>\n",
       "<style scoped>\n",
       "    .dataframe tbody tr th:only-of-type {\n",
       "        vertical-align: middle;\n",
       "    }\n",
       "\n",
       "    .dataframe tbody tr th {\n",
       "        vertical-align: top;\n",
       "    }\n",
       "\n",
       "    .dataframe thead th {\n",
       "        text-align: right;\n",
       "    }\n",
       "</style>\n",
       "<table border=\"1\" class=\"dataframe\">\n",
       "  <thead>\n",
       "    <tr style=\"text-align: right;\">\n",
       "      <th></th>\n",
       "      <th>foto_mes</th>\n",
       "      <th>BAJA+1</th>\n",
       "      <th>BAJA+2</th>\n",
       "      <th>CONTINUA</th>\n",
       "    </tr>\n",
       "  </thead>\n",
       "  <tbody>\n",
       "    <tr>\n",
       "      <th>0</th>\n",
       "      <td>202101</td>\n",
       "      <td>616</td>\n",
       "      <td>824</td>\n",
       "      <td>160087</td>\n",
       "    </tr>\n",
       "    <tr>\n",
       "      <th>1</th>\n",
       "      <td>202102</td>\n",
       "      <td>830</td>\n",
       "      <td>1027</td>\n",
       "      <td>160298</td>\n",
       "    </tr>\n",
       "    <tr>\n",
       "      <th>2</th>\n",
       "      <td>202103</td>\n",
       "      <td>1034</td>\n",
       "      <td>953</td>\n",
       "      <td>161122</td>\n",
       "    </tr>\n",
       "    <tr>\n",
       "      <th>3</th>\n",
       "      <td>202104</td>\n",
       "      <td>954</td>\n",
       "      <td>1131</td>\n",
       "      <td>161333</td>\n",
       "    </tr>\n",
       "    <tr>\n",
       "      <th>4</th>\n",
       "      <td>202105</td>\n",
       "      <td>1134</td>\n",
       "      <td>0</td>\n",
       "      <td>0</td>\n",
       "    </tr>\n",
       "    <tr>\n",
       "      <th>5</th>\n",
       "      <td>202106</td>\n",
       "      <td>0</td>\n",
       "      <td>0</td>\n",
       "      <td>0</td>\n",
       "    </tr>\n",
       "  </tbody>\n",
       "</table>\n",
       "</div>"
      ],
      "text/plain": [
       "   foto_mes  BAJA+1  BAJA+2  CONTINUA\n",
       "0    202101     616     824    160087\n",
       "1    202102     830    1027    160298\n",
       "2    202103    1034     953    161122\n",
       "3    202104     954    1131    161333\n",
       "4    202105    1134       0         0\n",
       "5    202106       0       0         0"
      ]
     },
     "execution_count": 10,
     "metadata": {},
     "output_type": "execute_result"
    }
   ],
   "source": [
    "%%sql\n",
    "PIVOT competencia_01\n",
    "on clase_ternaria\n",
    "USING count(numero_de_cliente)\n",
    "GROUP BY foto_mes"
   ]
  },
  {
   "cell_type": "markdown",
   "metadata": {
    "id": "ejh1jzO2Y7jY"
   },
   "source": [
    "* ¿Cuál es la proporción del target?\n",
    "\n",
    "## Guardar tabla en .csv\n",
    "\n",
    "Para guardar a un `.csv` simplemente debe ejecutar la siguiente sentencia"
   ]
  },
  {
   "cell_type": "code",
   "execution_count": 12,
   "metadata": {
    "id": "I9venBPpWs86"
   },
   "outputs": [
    {
     "data": {
      "application/vnd.jupyter.widget-view+json": {
       "model_id": "e929a151cb4e49a783f9ac7d6bbd3769",
       "version_major": 2,
       "version_minor": 0
      },
      "text/plain": [
       "FloatProgress(value=0.0, layout=Layout(width='auto'), style=ProgressStyle(bar_color='black'))"
      ]
     },
     "metadata": {},
     "output_type": "display_data"
    },
    {
     "data": {
      "text/html": [
       "<div>\n",
       "<style scoped>\n",
       "    .dataframe tbody tr th:only-of-type {\n",
       "        vertical-align: middle;\n",
       "    }\n",
       "\n",
       "    .dataframe tbody tr th {\n",
       "        vertical-align: top;\n",
       "    }\n",
       "\n",
       "    .dataframe thead th {\n",
       "        text-align: right;\n",
       "    }\n",
       "</style>\n",
       "<table border=\"1\" class=\"dataframe\">\n",
       "  <thead>\n",
       "    <tr style=\"text-align: right;\">\n",
       "      <th></th>\n",
       "      <th>Success</th>\n",
       "    </tr>\n",
       "  </thead>\n",
       "  <tbody>\n",
       "  </tbody>\n",
       "</table>\n",
       "</div>"
      ],
      "text/plain": [
       "Empty DataFrame\n",
       "Columns: [Success]\n",
       "Index: []"
      ]
     },
     "execution_count": 12,
     "metadata": {},
     "output_type": "execute_result"
    }
   ],
   "source": [
    "%%sql\n",
    "COPY competencia_01 TO '{{dataset_path}}/processed/competencia_01.csv' (FORMAT CSV, HEADER)"
   ]
  }
 ],
 "metadata": {
  "colab": {
   "provenance": []
  },
  "kernelspec": {
   "display_name": "envdm",
   "language": "python",
   "name": "python3"
  },
  "language_info": {
   "codemirror_mode": {
    "name": "ipython",
    "version": 3
   },
   "file_extension": ".py",
   "mimetype": "text/x-python",
   "name": "python",
   "nbconvert_exporter": "python",
   "pygments_lexer": "ipython3",
   "version": "3.11.0"
  }
 },
 "nbformat": 4,
 "nbformat_minor": 0
}
